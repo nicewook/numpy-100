{
 "cells": [
  {
   "cell_type": "markdown",
   "metadata": {},
   "source": [
    "# 100 numpy exercises\n",
    "\n",
    "This is a collection of exercises that have been collected in the numpy mailing list, on stack overflow and in the numpy documentation. The goal of this collection is to offer a quick reference for both old and new users but also to provide a set of exercices for those who teach.\n",
    "\n",
    "\n",
    "If you find an error or think you've a better way to solve some of them, feel free to open an issue at <https://github.com/rougier/numpy-100>"
   ]
  },
  {
   "cell_type": "markdown",
   "metadata": {},
   "source": [
    "#### 1. Import the numpy package under the name `np` (★☆☆)"
   ]
  },
  {
   "cell_type": "code",
   "execution_count": 1,
   "metadata": {
    "collapsed": true
   },
   "outputs": [],
   "source": [
    "import numpy as np"
   ]
  },
  {
   "cell_type": "markdown",
   "metadata": {},
   "source": [
    "#### 2. Print the numpy version and the configuration (★☆☆)"
   ]
  },
  {
   "cell_type": "code",
   "execution_count": 9,
   "metadata": {
    "collapsed": false
   },
   "outputs": [
    {
     "name": "stdout",
     "output_type": "stream",
     "text": [
      "1.12.0\n",
      "blas_opt_info:\n",
      "    define_macros = [('HAVE_CBLAS', None), ('ATLAS_INFO', '\"\\\\\"None\\\\\"\"')]\n",
      "    library_dirs = ['C:\\\\projects\\\\numpy-wheels\\\\windows-wheel-builder\\\\atlas-builds\\\\atlas-3.11.38-sse2-64\\\\lib']\n",
      "    language = c\n",
      "    libraries = ['numpy-atlas']\n",
      "lapack_mkl_info:\n",
      "  NOT AVAILABLE\n",
      "atlas_3_10_threads_info:\n",
      "    define_macros = [('ATLAS_INFO', '\"\\\\\"None\\\\\"\"')]\n",
      "    library_dirs = ['C:\\\\projects\\\\numpy-wheels\\\\windows-wheel-builder\\\\atlas-builds\\\\atlas-3.11.38-sse2-64\\\\lib']\n",
      "    language = f77\n",
      "    libraries = ['numpy-atlas', 'numpy-atlas']\n",
      "openblas_lapack_info:\n",
      "  NOT AVAILABLE\n",
      "lapack_opt_info:\n",
      "    define_macros = [('ATLAS_INFO', '\"\\\\\"None\\\\\"\"')]\n",
      "    library_dirs = ['C:\\\\projects\\\\numpy-wheels\\\\windows-wheel-builder\\\\atlas-builds\\\\atlas-3.11.38-sse2-64\\\\lib']\n",
      "    language = f77\n",
      "    libraries = ['numpy-atlas', 'numpy-atlas']\n",
      "atlas_3_10_blas_threads_info:\n",
      "    define_macros = [('HAVE_CBLAS', None), ('ATLAS_INFO', '\"\\\\\"None\\\\\"\"')]\n",
      "    library_dirs = ['C:\\\\projects\\\\numpy-wheels\\\\windows-wheel-builder\\\\atlas-builds\\\\atlas-3.11.38-sse2-64\\\\lib']\n",
      "    language = c\n",
      "    libraries = ['numpy-atlas']\n",
      "blas_mkl_info:\n",
      "  NOT AVAILABLE\n",
      "blis_info:\n",
      "  NOT AVAILABLE\n",
      "openblas_info:\n",
      "  NOT AVAILABLE\n"
     ]
    }
   ],
   "source": [
    "print(np.__version__)\n",
    "np.__config__.show()  # 에러메시지처럼 보이는데 "
   ]
  },
  {
   "cell_type": "markdown",
   "metadata": {},
   "source": [
    "#### 3. Create a null vector of size 10 (★☆☆)"
   ]
  },
  {
   "cell_type": "code",
   "execution_count": 12,
   "metadata": {
    "collapsed": false
   },
   "outputs": [
    {
     "name": "stdout",
     "output_type": "stream",
     "text": [
      "[ 0.  0.  0.  0.  0.  0.  0.  0.  0.  0.]\n"
     ]
    }
   ],
   "source": [
    "Z = np.zeros(10)\n",
    "print(Z)"
   ]
  },
  {
   "cell_type": "markdown",
   "metadata": {},
   "source": [
    "#### 4.  How to find the memory size of any array (★☆☆)"
   ]
  },
  {
   "cell_type": "code",
   "execution_count": 13,
   "metadata": {
    "collapsed": false
   },
   "outputs": [
    {
     "name": "stdout",
     "output_type": "stream",
     "text": [
      "totoal 80 bytes, 8 bytes per item\n"
     ]
    }
   ],
   "source": [
    "Z1 = np.zeros(10)\n",
    "print(\"totoal %d bytes, %d bytes per item\" %(Z1.size*Z1.itemsize, Z1.itemsize))"
   ]
  },
  {
   "cell_type": "markdown",
   "metadata": {},
   "source": [
    "#### 5.  How to get the documentation of the numpy add function from the command line? (★☆☆)"
   ]
  },
  {
   "cell_type": "code",
   "execution_count": 17,
   "metadata": {
    "collapsed": false
   },
   "outputs": [
    {
     "name": "stdout",
     "output_type": "stream",
     "text": [
      "add(x1, x2[, out])\n",
      "\n",
      "Add arguments element-wise.\n",
      "\n",
      "Parameters\n",
      "----------\n",
      "x1, x2 : array_like\n",
      "    The arrays to be added.  If ``x1.shape != x2.shape``, they must be\n",
      "    broadcastable to a common shape (which may be the shape of one or\n",
      "    the other).\n",
      "\n",
      "Returns\n",
      "-------\n",
      "add : ndarray or scalar\n",
      "    The sum of `x1` and `x2`, element-wise.  Returns a scalar if\n",
      "    both  `x1` and `x2` are scalars.\n",
      "\n",
      "Notes\n",
      "-----\n",
      "Equivalent to `x1` + `x2` in terms of array broadcasting.\n",
      "\n",
      "Examples\n",
      "--------\n",
      ">>> np.add(1.0, 4.0)\n",
      "5.0\n",
      ">>> x1 = np.arange(9.0).reshape((3, 3))\n",
      ">>> x2 = np.arange(3.0)\n",
      ">>> np.add(x1, x2)\n",
      "array([[  0.,   2.,   4.],\n",
      "       [  3.,   5.,   7.],\n",
      "       [  6.,   8.,  10.]])\n"
     ]
    }
   ],
   "source": [
    "# 여기서 바로 찾으려면 \n",
    "np.info(numpy.add)"
   ]
  },
  {
   "cell_type": "code",
   "execution_count": 18,
   "metadata": {
    "collapsed": false
   },
   "outputs": [
    {
     "name": "stderr",
     "output_type": "stream",
     "text": [
      "ERROR:root:File `\"'python.py\"` not found.\n"
     ]
    }
   ],
   "source": [
    "# CLI 에서 찾으려면\n",
    "%run `python -c \"import numpy; numpy.info(numpy.add)\"`"
   ]
  },
  {
   "cell_type": "markdown",
   "metadata": {},
   "source": [
    "#### 6.  Create a null vector of size 10 but the fifth value which is 1 (★☆☆)"
   ]
  },
  {
   "cell_type": "code",
   "execution_count": 20,
   "metadata": {
    "collapsed": false
   },
   "outputs": [
    {
     "name": "stdout",
     "output_type": "stream",
     "text": [
      "[ 0.  0.  0.  0.  1.  0.  0.  0.  0.  0.]\n"
     ]
    }
   ],
   "source": [
    "Z = np.zeros(10)\n",
    "Z[4] = 1\n",
    "print(Z)"
   ]
  },
  {
   "cell_type": "markdown",
   "metadata": {},
   "source": [
    "#### 7.  Create a vector with values ranging from 10 to 49 (★☆☆)"
   ]
  },
  {
   "cell_type": "code",
   "execution_count": 21,
   "metadata": {
    "collapsed": false
   },
   "outputs": [
    {
     "name": "stdout",
     "output_type": "stream",
     "text": [
      "[10 11 12 13 14 15 16 17 18 19 20 21 22 23 24 25 26 27 28 29 30 31 32 33 34\n",
      " 35 36 37 38 39 40 41 42 43 44 45 46 47 48 49]\n"
     ]
    }
   ],
   "source": [
    "Z = np.arange(10,50)\n",
    "print(Z)"
   ]
  },
  {
   "cell_type": "markdown",
   "metadata": {},
   "source": [
    "#### 8.  Reverse a vector (first element becomes last) (★☆☆)\n",
    "\n",
    "\n",
    "https://mail.python.org/pipermail/tutor/2007-July/055838.html\n",
    " with numpy/Numeric/numarray style arrays, extended slicing \n",
    "gives you a \"view\" of the original array, somewhat similar to using \n",
    ".reverse() on typeseq objects (but still different because the original \n",
    "array is unchanged). Changes to the original array will be *reflected* \n",
    "in the view objects of that original array (unlike in the example copied \n",
    "objects above):\n",
    "\n",
    "```python\n",
    "import numpy\n",
    "c = numpy.array([0, 1, 2, 3, 4])\n",
    "d = c[::-1]\n",
    "c[2] = 9\n",
    "c\n",
    "array([0, 1, 9, 3, 4])\n",
    "d\n",
    "array([4, 3, 9, 1, 0])\n",
    "```"
   ]
  },
  {
   "cell_type": "code",
   "execution_count": 26,
   "metadata": {
    "collapsed": false
   },
   "outputs": [
    {
     "name": "stdout",
     "output_type": "stream",
     "text": [
      "[49 48 47 46 45 44 43 42 41 40 39 38 37 36 35 34 33 32 31 30 29 28 27 26 25\n",
      " 24 23 22 21 20 19 18 17 16 15 14 13 12 11 10]\n"
     ]
    }
   ],
   "source": [
    "Z = np.arange(10,50)\n",
    "Z = Z[::-1]\n",
    "print(Z)\n"
   ]
  },
  {
   "cell_type": "markdown",
   "metadata": {},
   "source": [
    "#### 9.  Create a 3x3 matrix with values ranging from 0 to 8 (★☆☆)"
   ]
  },
  {
   "cell_type": "code",
   "execution_count": 30,
   "metadata": {
    "collapsed": false
   },
   "outputs": [
    {
     "name": "stdout",
     "output_type": "stream",
     "text": [
      "[[0 1 2]\n",
      " [3 4 5]\n",
      " [6 7 8]]\n",
      "[0 1 2 3 4 5 6 7 8]\n",
      "[[0 1 2]\n",
      " [3 4 5]\n",
      " [6 7 8]]\n"
     ]
    }
   ],
   "source": [
    "z = np.arange(0,9)\n",
    "print(z.reshape(3,3))\n",
    "print(z)\n",
    "\n",
    "# z를 정말 바꾸려면 대입시켜줘야 한다\n",
    "z = z.reshape(3,3)\n",
    "print(z)"
   ]
  },
  {
   "cell_type": "markdown",
   "metadata": {},
   "source": [
    "#### 10. Find indices of non-zero elements from \\[1,2,0,0,4,0\\] (★☆☆)"
   ]
  },
  {
   "cell_type": "code",
   "execution_count": 33,
   "metadata": {
    "collapsed": false
   },
   "outputs": [
    {
     "name": "stdout",
     "output_type": "stream",
     "text": [
      "(array([0, 1, 4], dtype=int64),)\n"
     ]
    }
   ],
   "source": [
    "z = [1,2,0,0,4,0]\n",
    "nz = np.nonzero(z)\n",
    "print(nz)"
   ]
  },
  {
   "cell_type": "markdown",
   "metadata": {},
   "source": [
    "#### 11. Create a 3x3 identity matrix (★☆☆)"
   ]
  },
  {
   "cell_type": "code",
   "execution_count": 37,
   "metadata": {
    "collapsed": false
   },
   "outputs": [
    {
     "name": "stdout",
     "output_type": "stream",
     "text": [
      " eye(N, M=None, k=0, dtype=<class 'float'>)\n",
      "\n",
      "Return a 2-D array with ones on the diagonal and zeros elsewhere.\n",
      "\n",
      "Parameters\n",
      "----------\n",
      "N : int\n",
      "  Number of rows in the output.\n",
      "M : int, optional\n",
      "  Number of columns in the output. If None, defaults to `N`.\n",
      "k : int, optional\n",
      "  Index of the diagonal: 0 (the default) refers to the main diagonal,\n",
      "  a positive value refers to an upper diagonal, and a negative value\n",
      "  to a lower diagonal.\n",
      "dtype : data-type, optional\n",
      "  Data-type of the returned array.\n",
      "\n",
      "Returns\n",
      "-------\n",
      "I : ndarray of shape (N,M)\n",
      "  An array where all elements are equal to zero, except for the `k`-th\n",
      "  diagonal, whose values are equal to one.\n",
      "\n",
      "See Also\n",
      "--------\n",
      "identity : (almost) equivalent function\n",
      "diag : diagonal 2-D array from a 1-D array specified by the user.\n",
      "\n",
      "Examples\n",
      "--------\n",
      ">>> np.eye(2, dtype=int)\n",
      "array([[1, 0],\n",
      "       [0, 1]])\n",
      ">>> np.eye(3, k=1)\n",
      "array([[ 0.,  1.,  0.],\n",
      "       [ 0.,  0.,  1.],\n",
      "       [ 0.,  0.,  0.]])\n",
      "None\n",
      "[[ 0.  1.  0.  0.]\n",
      " [ 0.  0.  1.  0.]\n",
      " [ 0.  0.  0.  1.]]\n"
     ]
    }
   ],
   "source": [
    "print(np.info(np.eye))\n",
    "z = np.eye(3,4,1) # 앞의 두개는 행과 열, 마지막 숫자는 대각선을 위로 할지 아래로 내릴지\n",
    "print(z)"
   ]
  },
  {
   "cell_type": "markdown",
   "metadata": {},
   "source": [
    "#### 12. Create a 3x3x3 array with random values (★☆☆)"
   ]
  },
  {
   "cell_type": "code",
   "execution_count": 39,
   "metadata": {
    "collapsed": false
   },
   "outputs": [
    {
     "name": "stdout",
     "output_type": "stream",
     "text": [
      "[[[ 0.21051183  0.25391797  0.12396665]\n",
      "  [ 0.75636869  0.17855958  0.92090849]\n",
      "  [ 0.90699708  0.88751951  0.35856253]]\n",
      "\n",
      " [[ 0.60685185  0.07066788  0.29872114]\n",
      "  [ 0.08970229  0.17741456  0.23290537]\n",
      "  [ 0.0166366   0.14205972  0.06381061]]\n",
      "\n",
      " [[ 0.04466087  0.22068561  0.61973361]\n",
      "  [ 0.56062401  0.42508802  0.82552199]\n",
      "  [ 0.49008246  0.80289832  0.36035239]]]\n"
     ]
    }
   ],
   "source": [
    "z = np.random.random((3,3,3))  # 0에서 1 사이의 랜덤값 생성\n",
    "print(z)"
   ]
  },
  {
   "cell_type": "markdown",
   "metadata": {},
   "source": [
    "#### 13. Create a 10x10 array with random values and find the minimum and maximum values (★☆☆)"
   ]
  },
  {
   "cell_type": "code",
   "execution_count": 41,
   "metadata": {
    "collapsed": false
   },
   "outputs": [
    {
     "name": "stdout",
     "output_type": "stream",
     "text": [
      "0.981132129163 0.00228961941416\n"
     ]
    }
   ],
   "source": [
    "z = np.random.random((10,10))\n",
    "print(z.max(), z.min())"
   ]
  },
  {
   "cell_type": "markdown",
   "metadata": {},
   "source": [
    "#### 14. Create a random vector of size 30 and find the mean value (★☆☆)"
   ]
  },
  {
   "cell_type": "code",
   "execution_count": 42,
   "metadata": {
    "collapsed": false
   },
   "outputs": [
    {
     "name": "stdout",
     "output_type": "stream",
     "text": [
      "0.52763091196\n"
     ]
    }
   ],
   "source": [
    "z = np.random.random(30)\n",
    "print(z.mean())"
   ]
  },
  {
   "cell_type": "markdown",
   "metadata": {},
   "source": [
    "#### 15. Create a 2d array with 1 on the border and 0 inside (★☆☆)"
   ]
  },
  {
   "cell_type": "code",
   "execution_count": 44,
   "metadata": {
    "collapsed": false
   },
   "outputs": [
    {
     "name": "stdout",
     "output_type": "stream",
     "text": [
      "[[ 1.  1.  1.  1.  1.  1.  1.  1.  1.  1.]\n",
      " [ 1.  1.  1.  1.  1.  1.  1.  1.  1.  1.]\n",
      " [ 1.  1.  1.  1.  1.  1.  1.  1.  1.  1.]\n",
      " [ 1.  1.  1.  1.  1.  1.  1.  1.  1.  1.]\n",
      " [ 1.  1.  1.  1.  1.  1.  1.  1.  1.  1.]\n",
      " [ 1.  1.  1.  1.  1.  1.  1.  1.  1.  1.]\n",
      " [ 1.  1.  1.  1.  1.  1.  1.  1.  1.  1.]\n",
      " [ 1.  1.  1.  1.  1.  1.  1.  1.  1.  1.]\n",
      " [ 1.  1.  1.  1.  1.  1.  1.  1.  1.  1.]\n",
      " [ 1.  1.  1.  1.  1.  1.  1.  1.  1.  1.]]\n",
      "[[ 1.  1.  1.  1.  1.  1.  1.  1.  1.  1.]\n",
      " [ 1.  0.  0.  0.  0.  0.  0.  0.  0.  1.]\n",
      " [ 1.  0.  0.  0.  0.  0.  0.  0.  0.  1.]\n",
      " [ 1.  0.  0.  0.  0.  0.  0.  0.  0.  1.]\n",
      " [ 1.  0.  0.  0.  0.  0.  0.  0.  0.  1.]\n",
      " [ 1.  0.  0.  0.  0.  0.  0.  0.  0.  1.]\n",
      " [ 1.  0.  0.  0.  0.  0.  0.  0.  0.  1.]\n",
      " [ 1.  0.  0.  0.  0.  0.  0.  0.  0.  1.]\n",
      " [ 1.  0.  0.  0.  0.  0.  0.  0.  0.  1.]\n",
      " [ 1.  1.  1.  1.  1.  1.  1.  1.  1.  1.]]\n"
     ]
    }
   ],
   "source": [
    "z = np.ones((10,10))  # 1로 가득찬 10*10 \n",
    "print(z)\n",
    "z[1:-1,1:-1] = 0\n",
    "print(z)"
   ]
  },
  {
   "cell_type": "markdown",
   "metadata": {},
   "source": [
    "#### 16. How to add a border (filled with 0's) around an existing array? (★☆☆)"
   ]
  },
  {
   "cell_type": "code",
   "execution_count": 54,
   "metadata": {
    "collapsed": false
   },
   "outputs": [
    {
     "name": "stdout",
     "output_type": "stream",
     "text": [
      " pad(array, pad_width, mode, **kwargs)\n",
      "\n",
      "Pads an array.\n",
      "\n",
      "Parameters\n",
      "----------\n",
      "array : array_like of rank N\n",
      "    Input array\n",
      "pad_width : {sequence, array_like, int}\n",
      "    Number of values padded to the edges of each axis.\n",
      "    ((before_1, after_1), ... (before_N, after_N)) unique pad widths\n",
      "    for each axis.\n",
      "    ((before, after),) yields same before and after pad for each axis.\n",
      "    (pad,) or int is a shortcut for before = after = pad width for all\n",
      "    axes.\n",
      "mode : str or function\n",
      "    One of the following string values or a user supplied function.\n",
      "\n",
      "    'constant'\n",
      "        Pads with a constant value.\n",
      "    'edge'\n",
      "        Pads with the edge values of array.\n",
      "    'linear_ramp'\n",
      "        Pads with the linear ramp between end_value and the\n",
      "        array edge value.\n",
      "    'maximum'\n",
      "        Pads with the maximum value of all or part of the\n",
      "        vector along each axis.\n",
      "    'mean'\n",
      "        Pads with the mean value of all or part of the\n",
      "        vector along each axis.\n",
      "    'median'\n",
      "        Pads with the median value of all or part of the\n",
      "        vector along each axis.\n",
      "    'minimum'\n",
      "        Pads with the minimum value of all or part of the\n",
      "        vector along each axis.\n",
      "    'reflect'\n",
      "        Pads with the reflection of the vector mirrored on\n",
      "        the first and last values of the vector along each\n",
      "        axis.\n",
      "    'symmetric'\n",
      "        Pads with the reflection of the vector mirrored\n",
      "        along the edge of the array.\n",
      "    'wrap'\n",
      "        Pads with the wrap of the vector along the axis.\n",
      "        The first values are used to pad the end and the\n",
      "        end values are used to pad the beginning.\n",
      "    <function>\n",
      "        Padding function, see Notes.\n",
      "stat_length : sequence or int, optional\n",
      "    Used in 'maximum', 'mean', 'median', and 'minimum'.  Number of\n",
      "    values at edge of each axis used to calculate the statistic value.\n",
      "\n",
      "    ((before_1, after_1), ... (before_N, after_N)) unique statistic\n",
      "    lengths for each axis.\n",
      "\n",
      "    ((before, after),) yields same before and after statistic lengths\n",
      "    for each axis.\n",
      "\n",
      "    (stat_length,) or int is a shortcut for before = after = statistic\n",
      "    length for all axes.\n",
      "\n",
      "    Default is ``None``, to use the entire axis.\n",
      "constant_values : sequence or int, optional\n",
      "    Used in 'constant'.  The values to set the padded values for each\n",
      "    axis.\n",
      "\n",
      "    ((before_1, after_1), ... (before_N, after_N)) unique pad constants\n",
      "    for each axis.\n",
      "\n",
      "    ((before, after),) yields same before and after constants for each\n",
      "    axis.\n",
      "\n",
      "    (constant,) or int is a shortcut for before = after = constant for\n",
      "    all axes.\n",
      "\n",
      "    Default is 0.\n",
      "end_values : sequence or int, optional\n",
      "    Used in 'linear_ramp'.  The values used for the ending value of the\n",
      "    linear_ramp and that will form the edge of the padded array.\n",
      "\n",
      "    ((before_1, after_1), ... (before_N, after_N)) unique end values\n",
      "    for each axis.\n",
      "\n",
      "    ((before, after),) yields same before and after end values for each\n",
      "    axis.\n",
      "\n",
      "    (constant,) or int is a shortcut for before = after = end value for\n",
      "    all axes.\n",
      "\n",
      "    Default is 0.\n",
      "reflect_type : {'even', 'odd'}, optional\n",
      "    Used in 'reflect', and 'symmetric'.  The 'even' style is the\n",
      "    default with an unaltered reflection around the edge value.  For\n",
      "    the 'odd' style, the extented part of the array is created by\n",
      "    subtracting the reflected values from two times the edge value.\n",
      "\n",
      "Returns\n",
      "-------\n",
      "pad : ndarray\n",
      "    Padded array of rank equal to `array` with shape increased\n",
      "    according to `pad_width`.\n",
      "\n",
      "Notes\n",
      "-----\n",
      ".. versionadded:: 1.7.0\n",
      "\n",
      "For an array with rank greater than 1, some of the padding of later\n",
      "axes is calculated from padding of previous axes.  This is easiest to\n",
      "think about with a rank 2 array where the corners of the padded array\n",
      "are calculated by using padded values from the first axis.\n",
      "\n",
      "The padding function, if used, should return a rank 1 array equal in\n",
      "length to the vector argument with padded values replaced. It has the\n",
      "following signature::\n",
      "\n",
      "    padding_func(vector, iaxis_pad_width, iaxis, **kwargs)\n",
      "\n",
      "where\n",
      "\n",
      "    vector : ndarray\n",
      "        A rank 1 array already padded with zeros.  Padded values are\n",
      "        vector[:pad_tuple[0]] and vector[-pad_tuple[1]:].\n",
      "    iaxis_pad_width : tuple\n",
      "        A 2-tuple of ints, iaxis_pad_width[0] represents the number of\n",
      "        values padded at the beginning of vector where\n",
      "        iaxis_pad_width[1] represents the number of values padded at\n",
      "        the end of vector.\n",
      "    iaxis : int\n",
      "        The axis currently being calculated.\n",
      "    kwargs : misc\n",
      "        Any keyword arguments the function requires.\n",
      "\n",
      "Examples\n",
      "--------\n",
      ">>> a = [1, 2, 3, 4, 5]\n",
      ">>> np.lib.pad(a, (2,3), 'constant', constant_values=(4, 6))\n",
      "array([4, 4, 1, 2, 3, 4, 5, 6, 6, 6])\n",
      "\n",
      ">>> np.lib.pad(a, (2, 3), 'edge')\n",
      "array([1, 1, 1, 2, 3, 4, 5, 5, 5, 5])\n",
      "\n",
      ">>> np.lib.pad(a, (2, 3), 'linear_ramp', end_values=(5, -4))\n",
      "array([ 5,  3,  1,  2,  3,  4,  5,  2, -1, -4])\n",
      "\n",
      ">>> np.lib.pad(a, (2,), 'maximum')\n",
      "array([5, 5, 1, 2, 3, 4, 5, 5, 5])\n",
      "\n",
      ">>> np.lib.pad(a, (2,), 'mean')\n",
      "array([3, 3, 1, 2, 3, 4, 5, 3, 3])\n",
      "\n",
      ">>> np.lib.pad(a, (2,), 'median')\n",
      "array([3, 3, 1, 2, 3, 4, 5, 3, 3])\n",
      "\n",
      ">>> a = [[1, 2], [3, 4]]\n",
      ">>> np.lib.pad(a, ((3, 2), (2, 3)), 'minimum')\n",
      "array([[1, 1, 1, 2, 1, 1, 1],\n",
      "       [1, 1, 1, 2, 1, 1, 1],\n",
      "       [1, 1, 1, 2, 1, 1, 1],\n",
      "       [1, 1, 1, 2, 1, 1, 1],\n",
      "       [3, 3, 3, 4, 3, 3, 3],\n",
      "       [1, 1, 1, 2, 1, 1, 1],\n",
      "       [1, 1, 1, 2, 1, 1, 1]])\n",
      "\n",
      ">>> a = [1, 2, 3, 4, 5]\n",
      ">>> np.lib.pad(a, (2, 3), 'reflect')\n",
      "array([3, 2, 1, 2, 3, 4, 5, 4, 3, 2])\n",
      "\n",
      ">>> np.lib.pad(a, (2, 3), 'reflect', reflect_type='odd')\n",
      "array([-1,  0,  1,  2,  3,  4,  5,  6,  7,  8])\n",
      "\n",
      ">>> np.lib.pad(a, (2, 3), 'symmetric')\n",
      "array([2, 1, 1, 2, 3, 4, 5, 5, 4, 3])\n",
      "\n",
      ">>> np.lib.pad(a, (2, 3), 'symmetric', reflect_type='odd')\n",
      "array([0, 1, 1, 2, 3, 4, 5, 5, 6, 7])\n",
      "\n",
      ">>> np.lib.pad(a, (2, 3), 'wrap')\n",
      "array([4, 5, 1, 2, 3, 4, 5, 1, 2, 3])\n",
      "\n",
      ">>> def padwithtens(vector, pad_width, iaxis, kwargs):\n",
      "...     vector[:pad_width[0]] = 10\n",
      "...     vector[-pad_width[1]:] = 10\n",
      "...     return vector\n",
      "\n",
      ">>> a = np.arange(6)\n",
      ">>> a = a.reshape((2, 3))\n",
      "\n",
      ">>> np.lib.pad(a, 2, padwithtens)\n",
      "array([[10, 10, 10, 10, 10, 10, 10],\n",
      "       [10, 10, 10, 10, 10, 10, 10],\n",
      "       [10, 10,  0,  1,  2, 10, 10],\n",
      "       [10, 10,  3,  4,  5, 10, 10],\n",
      "       [10, 10, 10, 10, 10, 10, 10],\n",
      "       [10, 10, 10, 10, 10, 10, 10]])\n",
      "None\n",
      "[[ 1.  1.  1.]\n",
      " [ 1.  1.  1.]\n",
      " [ 1.  1.  1.]]\n",
      "[[ 0.  0.  0.  0.  0.]\n",
      " [ 0.  1.  1.  1.  0.]\n",
      " [ 0.  1.  1.  1.  0.]\n",
      " [ 0.  1.  1.  1.  0.]\n",
      " [ 0.  0.  0.  0.  0.]]\n"
     ]
    }
   ],
   "source": [
    "print(np.info(np.pad))\n",
    "z = np.ones((3,3))\n",
    "print(z)\n",
    "z = np.pad(z, ((1,1),(1,1)), 'constant')\n",
    "print(z)"
   ]
  },
  {
   "cell_type": "markdown",
   "metadata": {},
   "source": [
    "#### 17. What is the result of the following expression? (★☆☆)\n",
    "\n",
    "Floating Point Math: http://0.30000000000000004.com/\n",
    "\n"
   ]
  },
  {
   "cell_type": "markdown",
   "metadata": {},
   "source": [
    "```python\n",
    "0 * np.nan\n",
    "np.nan == np.nan\n",
    "np.inf > np.nan\n",
    "np.nan - np.nan\n",
    "0.3 == 3 * 0.1\n",
    "```"
   ]
  },
  {
   "cell_type": "code",
   "execution_count": 58,
   "metadata": {
    "collapsed": false
   },
   "outputs": [
    {
     "name": "stdout",
     "output_type": "stream",
     "text": [
      "nan\n",
      "False\n",
      "False\n",
      "nan\n",
      "False\n",
      "0.30000000000000004\n"
     ]
    }
   ],
   "source": [
    "print(0 * np.nan)\n",
    "print(np.nan == np.nan)\n",
    "print(np.inf > np.nan)\n",
    "print(np.nan - np.nan)\n",
    "print(0.3 == 3 * 0.1)\n",
    "print(3.0 *0.1)"
   ]
  },
  {
   "cell_type": "markdown",
   "metadata": {},
   "source": [
    "#### 18. Create a 5x5 matrix with values 1,2,3,4 just below the diagonal (★☆☆)"
   ]
  },
  {
   "cell_type": "code",
   "execution_count": 67,
   "metadata": {
    "collapsed": false
   },
   "outputs": [
    {
     "name": "stdout",
     "output_type": "stream",
     "text": [
      " diag(v, k=0)\n",
      "\n",
      "Extract a diagonal or construct a diagonal array.\n",
      "\n",
      "See the more detailed documentation for ``numpy.diagonal`` if you use this\n",
      "function to extract a diagonal and wish to write to the resulting array;\n",
      "whether it returns a copy or a view depends on what version of numpy you\n",
      "are using.\n",
      "\n",
      "Parameters\n",
      "----------\n",
      "v : array_like\n",
      "    If `v` is a 2-D array, return a copy of its `k`-th diagonal.\n",
      "    If `v` is a 1-D array, return a 2-D array with `v` on the `k`-th\n",
      "    diagonal.\n",
      "k : int, optional\n",
      "    Diagonal in question. The default is 0. Use `k>0` for diagonals\n",
      "    above the main diagonal, and `k<0` for diagonals below the main\n",
      "    diagonal.\n",
      "\n",
      "Returns\n",
      "-------\n",
      "out : ndarray\n",
      "    The extracted diagonal or constructed diagonal array.\n",
      "\n",
      "See Also\n",
      "--------\n",
      "diagonal : Return specified diagonals.\n",
      "diagflat : Create a 2-D array with the flattened input as a diagonal.\n",
      "trace : Sum along diagonals.\n",
      "triu : Upper triangle of an array.\n",
      "tril : Lower triangle of an array.\n",
      "\n",
      "Examples\n",
      "--------\n",
      ">>> x = np.arange(9).reshape((3,3))\n",
      ">>> x\n",
      "array([[0, 1, 2],\n",
      "       [3, 4, 5],\n",
      "       [6, 7, 8]])\n",
      "\n",
      ">>> np.diag(x)\n",
      "array([0, 4, 8])\n",
      ">>> np.diag(x, k=1)\n",
      "array([1, 5])\n",
      ">>> np.diag(x, k=-1)\n",
      "array([3, 7])\n",
      "\n",
      ">>> np.diag(np.diag(x))\n",
      "array([[0, 0, 0],\n",
      "       [0, 4, 0],\n",
      "       [0, 0, 8]])\n",
      "None\n",
      "[[0 0 0 0 0 0 0]\n",
      " [0 0 0 0 0 0 0]\n",
      " [0 0 0 0 0 0 0]\n",
      " [0 0 0 0 0 0 0]\n",
      " [1 0 0 0 0 0 0]\n",
      " [0 2 0 0 0 0 0]\n",
      " [0 0 3 0 0 0 0]]\n",
      "[[0 0 0 0 0]\n",
      " [1 0 0 0 0]\n",
      " [0 2 0 0 0]\n",
      " [0 0 3 0 0]\n",
      " [0 0 0 4 0]]\n"
     ]
    }
   ],
   "source": [
    "print(np.info(np.diag))\n",
    "z = np.diag(np.arange(3)+1, k=-4)\n",
    "print(z)\n",
    "z = np.diag(np.arange(4)+1, k=-1)\n",
    "print(z)"
   ]
  },
  {
   "cell_type": "markdown",
   "metadata": {},
   "source": [
    "#### 19. Create a 8x8 matrix and fill it with a checkerboard pattern (★☆☆)"
   ]
  },
  {
   "cell_type": "code",
   "execution_count": 68,
   "metadata": {
    "collapsed": false
   },
   "outputs": [
    {
     "name": "stdout",
     "output_type": "stream",
     "text": [
      "[[ 1.  0.  1.  0.  1.  0.  1.  0.]\n",
      " [ 0.  1.  0.  1.  0.  1.  0.  1.]\n",
      " [ 1.  0.  1.  0.  1.  0.  1.  0.]\n",
      " [ 0.  1.  0.  1.  0.  1.  0.  1.]\n",
      " [ 1.  0.  1.  0.  1.  0.  1.  0.]\n",
      " [ 0.  1.  0.  1.  0.  1.  0.  1.]\n",
      " [ 1.  0.  1.  0.  1.  0.  1.  0.]\n",
      " [ 0.  1.  0.  1.  0.  1.  0.  1.]]\n"
     ]
    }
   ],
   "source": [
    "z = np.zeros((8,8))\n",
    "z[1::2, 1::2] = 1\n",
    "z[0::2, 0::2] = 1\n",
    "print(z)"
   ]
  },
  {
   "cell_type": "markdown",
   "metadata": {},
   "source": [
    "#### 20. Consider a (6,7,8) shape array, what is the index (x,y,z) of the 100th element?"
   ]
  },
  {
   "cell_type": "code",
   "execution_count": 73,
   "metadata": {
    "collapsed": false
   },
   "outputs": [
    {
     "name": "stdout",
     "output_type": "stream",
     "text": [
      "unravel_index(indices, dims, order='C')\n",
      "\n",
      "Converts a flat index or array of flat indices into a tuple\n",
      "of coordinate arrays.\n",
      "\n",
      "Parameters\n",
      "----------\n",
      "indices : array_like\n",
      "    An integer array whose elements are indices into the flattened\n",
      "    version of an array of dimensions ``dims``. Before version 1.6.0,\n",
      "    this function accepted just one index value.\n",
      "dims : tuple of ints\n",
      "    The shape of the array to use for unraveling ``indices``.\n",
      "order : {'C', 'F'}, optional\n",
      "    Determines whether the indices should be viewed as indexing in\n",
      "    row-major (C-style) or column-major (Fortran-style) order.\n",
      "\n",
      "    .. versionadded:: 1.6.0\n",
      "\n",
      "Returns\n",
      "-------\n",
      "unraveled_coords : tuple of ndarray\n",
      "    Each array in the tuple has the same shape as the ``indices``\n",
      "    array.\n",
      "\n",
      "See Also\n",
      "--------\n",
      "ravel_multi_index\n",
      "\n",
      "Examples\n",
      "--------\n",
      ">>> np.unravel_index([22, 41, 37], (7,6))\n",
      "(array([3, 6, 6]), array([4, 5, 1]))\n",
      ">>> np.unravel_index([31, 41, 13], (7,6), order='F')\n",
      "(array([3, 6, 6]), array([4, 5, 1]))\n",
      "\n",
      ">>> np.unravel_index(1621, (6,7,8,9))\n",
      "(3, 1, 4, 1)\n",
      "None\n",
      "1 5 4\n"
     ]
    }
   ],
   "source": [
    "print(np.info(np.unravel_index))\n",
    "x,y,z = np.unravel_index(100, (6,7,8))\n",
    "print(x,y,z)"
   ]
  },
  {
   "cell_type": "markdown",
   "metadata": {},
   "source": [
    "#### 21. Create a checkerboard 8x8 matrix using the tile function (★☆☆)"
   ]
  },
  {
   "cell_type": "code",
   "execution_count": 75,
   "metadata": {
    "collapsed": false
   },
   "outputs": [
    {
     "name": "stdout",
     "output_type": "stream",
     "text": [
      " tile(A, reps)\n",
      "\n",
      "Construct an array by repeating A the number of times given by reps.\n",
      "\n",
      "If `reps` has length ``d``, the result will have dimension of\n",
      "``max(d, A.ndim)``.\n",
      "\n",
      "If ``A.ndim < d``, `A` is promoted to be d-dimensional by prepending new\n",
      "axes. So a shape (3,) array is promoted to (1, 3) for 2-D replication,\n",
      "or shape (1, 1, 3) for 3-D replication. If this is not the desired\n",
      "behavior, promote `A` to d-dimensions manually before calling this\n",
      "function.\n",
      "\n",
      "If ``A.ndim > d``, `reps` is promoted to `A`.ndim by pre-pending 1's to it.\n",
      "Thus for an `A` of shape (2, 3, 4, 5), a `reps` of (2, 2) is treated as\n",
      "(1, 1, 2, 2).\n",
      "\n",
      "Note : Although tile may be used for broadcasting, it is strongly\n",
      "recommended to use numpy's broadcasting operations and functions.\n",
      "\n",
      "Parameters\n",
      "----------\n",
      "A : array_like\n",
      "    The input array.\n",
      "reps : array_like\n",
      "    The number of repetitions of `A` along each axis.\n",
      "\n",
      "Returns\n",
      "-------\n",
      "c : ndarray\n",
      "    The tiled output array.\n",
      "\n",
      "See Also\n",
      "--------\n",
      "repeat : Repeat elements of an array.\n",
      "broadcast_to : Broadcast an array to a new shape\n",
      "\n",
      "Examples\n",
      "--------\n",
      ">>> a = np.array([0, 1, 2])\n",
      ">>> np.tile(a, 2)\n",
      "array([0, 1, 2, 0, 1, 2])\n",
      ">>> np.tile(a, (2, 2))\n",
      "array([[0, 1, 2, 0, 1, 2],\n",
      "       [0, 1, 2, 0, 1, 2]])\n",
      ">>> np.tile(a, (2, 1, 2))\n",
      "array([[[0, 1, 2, 0, 1, 2]],\n",
      "       [[0, 1, 2, 0, 1, 2]]])\n",
      "\n",
      ">>> b = np.array([[1, 2], [3, 4]])\n",
      ">>> np.tile(b, 2)\n",
      "array([[1, 2, 1, 2],\n",
      "       [3, 4, 3, 4]])\n",
      ">>> np.tile(b, (2, 1))\n",
      "array([[1, 2],\n",
      "       [3, 4],\n",
      "       [1, 2],\n",
      "       [3, 4]])\n",
      "\n",
      ">>> c = np.array([1,2,3,4])\n",
      ">>> np.tile(c,(4,1))\n",
      "array([[1, 2, 3, 4],\n",
      "       [1, 2, 3, 4],\n",
      "       [1, 2, 3, 4],\n",
      "       [1, 2, 3, 4]])\n",
      "None\n"
     ]
    }
   ],
   "source": [
    "print(np.info(np.tile))"
   ]
  },
  {
   "cell_type": "code",
   "execution_count": 79,
   "metadata": {
    "collapsed": false
   },
   "outputs": [
    {
     "name": "stdout",
     "output_type": "stream",
     "text": [
      "[[0 1]\n",
      " [1 0]]\n",
      "[[0 1 0 1 0 1 0 1]\n",
      " [1 0 1 0 1 0 1 0]\n",
      " [0 1 0 1 0 1 0 1]\n",
      " [1 0 1 0 1 0 1 0]\n",
      " [0 1 0 1 0 1 0 1]\n",
      " [1 0 1 0 1 0 1 0]\n",
      " [0 1 0 1 0 1 0 1]\n",
      " [1 0 1 0 1 0 1 0]]\n"
     ]
    }
   ],
   "source": [
    "z = np.array([[0,1], [1,0]])\n",
    "print(z)\n",
    "z = np.tile(z,(4,4))\n",
    "print(z)\n"
   ]
  },
  {
   "cell_type": "markdown",
   "metadata": {},
   "source": [
    "#### 22. Normalize a 5x5 random matrix (★☆☆)"
   ]
  },
  {
   "cell_type": "code",
   "execution_count": 86,
   "metadata": {
    "collapsed": false
   },
   "outputs": [
    {
     "name": "stdout",
     "output_type": "stream",
     "text": [
      "[[ 0.20352845  0.33534848 -0.37979345 -0.41206546  0.43267668]\n",
      " [-0.08747632 -0.89718495  0.65854992  0.08010337  0.9222662 ]\n",
      " [-0.65763729 -0.47234256 -1.29566938 -0.12355326 -0.10319916]\n",
      " [ 0.76501824  1.5612749  -0.66089546 -0.4616349  -0.92838711]\n",
      " [ 0.891795    1.00778943  0.21488128 -0.03050269 -2.05073207]]\n",
      "[[ 0.45772636  0.36625955  0.82431816  0.06648868  0.8733279 ]\n",
      " [ 0.04550871  0.87894277  0.96860767  0.48933692  0.12724535]\n",
      " [ 0.09264555  0.21977861  0.89258465  0.09184562  0.02994942]\n",
      " [ 0.24465143  0.39717424  0.33394512  0.26074507  0.        ]\n",
      " [ 0.4156693   1.          0.79754324  0.01067487  0.41423488]]\n"
     ]
    }
   ],
   "source": [
    "z = np.random.randn(5,5)\n",
    "print(z)\n",
    "z = np.random.random((5,5))\n",
    "z = (z-z.min())/(z.max()-z.min())\n",
    "print(z)"
   ]
  },
  {
   "cell_type": "markdown",
   "metadata": {},
   "source": [
    "#### 23. Create a custom dtype that describes a color as four unisgned bytes (RGBA) (★☆☆)"
   ]
  },
  {
   "cell_type": "code",
   "execution_count": 87,
   "metadata": {
    "collapsed": true
   },
   "outputs": [],
   "source": [
    "color = np.dtype([(\"r\", np.ubyte,1),\n",
    "                 (\"g\", np.ubyte,1),\n",
    "                 (\"b\", np.ubyte,1),\n",
    "                 (\"a\", np.ubyte,1)])\n"
   ]
  },
  {
   "cell_type": "markdown",
   "metadata": {},
   "source": [
    "#### 24. Multiply a 5x3 matrix by a 3x2 matrix (real matrix product) (★☆☆)"
   ]
  },
  {
   "cell_type": "code",
   "execution_count": 91,
   "metadata": {
    "collapsed": false
   },
   "outputs": [
    {
     "name": "stdout",
     "output_type": "stream",
     "text": [
      "[[ 1.  1.  1.]\n",
      " [ 1.  1.  1.]\n",
      " [ 1.  1.  1.]\n",
      " [ 1.  1.  1.]\n",
      " [ 1.  1.  1.]] [[ 0.94153678  0.08141291]\n",
      " [ 0.93150426  0.42039741]\n",
      " [ 0.7012594   0.04635223]]\n",
      "shape (5, 3) (3, 2)\n",
      "[[ 2.57430045  0.54816255]\n",
      " [ 2.57430045  0.54816255]\n",
      " [ 2.57430045  0.54816255]\n",
      " [ 2.57430045  0.54816255]\n",
      " [ 2.57430045  0.54816255]]\n",
      "[[ 3.  3.]\n",
      " [ 3.  3.]\n",
      " [ 3.  3.]\n",
      " [ 3.  3.]\n",
      " [ 3.  3.]]\n"
     ]
    }
   ],
   "source": [
    "z1 = np.ones((5,3))\n",
    "z2 = np.random.random((3,2)) \n",
    "print(z1, z2)\n",
    "print(\"shape\", z1.shape, z2.shape)\n",
    "print(np.dot(z1,z2))\n",
    "\n",
    "Z = np.ones((5,3)) @ np.ones((3,2))\n",
    "print(Z)"
   ]
  },
  {
   "cell_type": "markdown",
   "metadata": {},
   "source": [
    "#### 25. Given a 1D array, negate all elements which are between 3 and 8, in place. (★☆☆)"
   ]
  },
  {
   "cell_type": "code",
   "execution_count": 93,
   "metadata": {
    "collapsed": false
   },
   "outputs": [
    {
     "name": "stdout",
     "output_type": "stream",
     "text": [
      "[ 0  1  2  3 -4 -5 -6 -7 -8  9 10 11 12 13 14]\n"
     ]
    }
   ],
   "source": [
    "z = np.arange(15)\n",
    "z[(z>3) & (z<=8)] *= -1\n",
    "print(z)"
   ]
  },
  {
   "cell_type": "markdown",
   "metadata": {},
   "source": [
    "#### 26. What is the output of the following script? (★☆☆)"
   ]
  },
  {
   "cell_type": "markdown",
   "metadata": {},
   "source": [
    "```python\n",
    "# Author: Jake VanderPlas\n",
    "\n",
    "print(sum(range(5),-1))\n",
    "from numpy import *\n",
    "print(sum(range(5),-1))\n",
    "```"
   ]
  },
  {
   "cell_type": "code",
   "execution_count": 96,
   "metadata": {
    "collapsed": false
   },
   "outputs": [
    {
     "name": "stdout",
     "output_type": "stream",
     "text": [
      "10\n",
      "10\n"
     ]
    }
   ],
   "source": [
    "# 10\n",
    "# 10 \n",
    "print(sum(range(5),-1))\n",
    "from numpy import *\n",
    "print(sum(range(5),-1))"
   ]
  },
  {
   "cell_type": "markdown",
   "metadata": {},
   "source": [
    "#### 27. Consider an integer vector Z, which of these expressions are legal? (★☆☆)"
   ]
  },
  {
   "cell_type": "markdown",
   "metadata": {},
   "source": [
    "```python\n",
    "Z**Z\n",
    "2 << Z >> 2\n",
    "Z <- Z\n",
    "1j*Z\n",
    "Z/1/1\n",
    "Z<Z>Z\n",
    "```"
   ]
  },
  {
   "cell_type": "code",
   "execution_count": 103,
   "metadata": {
    "collapsed": false
   },
   "outputs": [
    {
     "name": "stdout",
     "output_type": "stream",
     "text": [
      "[1 2 3 4]\n",
      "[  1   4  27 256]\n",
      "[1 2 4 8]\n",
      "[False False False False]\n",
      "[ 0.+1.j  0.+2.j  0.+3.j  0.+4.j]\n",
      "[ 1.  2.  3.  4.]\n"
     ]
    }
   ],
   "source": [
    "Z = np.arange(1,5)\n",
    "\n",
    "print(Z)\n",
    "\n",
    "print(Z**Z)\n",
    "print(2 << Z >> 2)  # 비트 시프트연산\n",
    "print(Z <- Z)\n",
    "print(1j*Z)  # 허수\n",
    "print(Z/1/1)  # float로 바뀜\n",
    "#Z<Z>Z"
   ]
  },
  {
   "cell_type": "markdown",
   "metadata": {},
   "source": [
    "#### 28. What are the result of the following expressions?"
   ]
  },
  {
   "cell_type": "markdown",
   "metadata": {},
   "source": [
    "```python\n",
    "np.array(0) / np.array(0)\n",
    "np.array(0) // np.array(0)\n",
    "np.array([np.nan]).astype(int).astype(float)\n",
    "```"
   ]
  },
  {
   "cell_type": "code",
   "execution_count": 110,
   "metadata": {
    "collapsed": false
   },
   "outputs": [
    {
     "name": "stdout",
     "output_type": "stream",
     "text": [
      "0\n",
      "nan\n",
      "nan\n",
      "nan\n",
      "0\n",
      "[ -2.14748365e+09]\n"
     ]
    },
    {
     "name": "stderr",
     "output_type": "stream",
     "text": [
      "C:\\Program Files\\Anaconda3\\lib\\site-packages\\ipykernel\\__main__.py:4: RuntimeWarning: invalid value encountered in true_divide\n",
      "C:\\Program Files\\Anaconda3\\lib\\site-packages\\ipykernel\\__main__.py:5: RuntimeWarning: divide by zero encountered in floor_divide\n"
     ]
    }
   ],
   "source": [
    "print(np.array(0))\n",
    "print(np.array(np.nan))\n",
    "print(np.nan)\n",
    "print(np.array(0) / np.array(0))\n",
    "print(np.array(0) // np.array(0))\n",
    "print(np.array([np.nan]).astype(int).astype(float))"
   ]
  },
  {
   "cell_type": "markdown",
   "metadata": {},
   "source": [
    "#### 29. How to round away from zero a float array ? (★☆☆)\n",
    "- 0에 가깝도록 나머지를 제거하라는 것임\n",
    "- 예를 들면 1.231는 1, -1.231는 -1"
   ]
  },
  {
   "cell_type": "code",
   "execution_count": 116,
   "metadata": {
    "collapsed": false
   },
   "outputs": [
    {
     "name": "stdout",
     "output_type": "stream",
     "text": [
      "[[ 4.6608834   8.93912606  0.3303329   9.76736639  0.09447046]\n",
      " [ 0.06713124  5.88728235  7.90384523  4.63840139  0.71475549]\n",
      " [ 0.71945732  6.64431933  0.95816455  9.38622678  1.17547404]\n",
      " [ 4.6630647   0.6639737   7.04445718  5.77633574  6.71351145]\n",
      " [ 4.84263449  9.12261429  1.72152651  7.3682346   7.30336112]]\n",
      "[[4 8 0 9 0]\n",
      " [0 5 7 4 0]\n",
      " [0 6 0 9 1]\n",
      " [4 0 7 5 6]\n",
      " [4 9 1 7 7]]\n"
     ]
    }
   ],
   "source": [
    "z = np.random.random((5,5)) *10\n",
    "print(z)\n",
    "z = z.astype(int)\n",
    "print(z)\n",
    "\n",
    "# 위는 내가 잘못 이해한 것임\n",
    "\n"
   ]
  },
  {
   "cell_type": "code",
   "execution_count": 134,
   "metadata": {
    "collapsed": false
   },
   "outputs": [
    {
     "name": "stdout",
     "output_type": "stream",
     "text": [
      "uniform(low=0.0, high=1.0, size=None)\n",
      "\n",
      "Draw samples from a uniform distribution.\n",
      "\n",
      "Samples are uniformly distributed over the half-open interval\n",
      "``[low, high)`` (includes low, but excludes high).  In other words,\n",
      "any value within the given interval is equally likely to be drawn\n",
      "by `uniform`.\n",
      "\n",
      "Parameters\n",
      "----------\n",
      "low : float or array_like of floats, optional\n",
      "    Lower boundary of the output interval.  All values generated will be\n",
      "    greater than or equal to low.  The default value is 0.\n",
      "high : float or array_like of floats\n",
      "    Upper boundary of the output interval.  All values generated will be\n",
      "    less than high.  The default value is 1.0.\n",
      "size : int or tuple of ints, optional\n",
      "    Output shape.  If the given shape is, e.g., ``(m, n, k)``, then\n",
      "    ``m * n * k`` samples are drawn.  If size is ``None`` (default),\n",
      "    a single value is returned if ``low`` and ``high`` are both scalars.\n",
      "    Otherwise, ``np.broadcast(low, high).size`` samples are drawn.\n",
      "\n",
      "Returns\n",
      "-------\n",
      "out : ndarray or scalar\n",
      "    Drawn samples from the parameterized uniform distribution.\n",
      "\n",
      "See Also\n",
      "--------\n",
      "randint : Discrete uniform distribution, yielding integers.\n",
      "random_integers : Discrete uniform distribution over the closed\n",
      "                  interval ``[low, high]``.\n",
      "random_sample : Floats uniformly distributed over ``[0, 1)``.\n",
      "random : Alias for `random_sample`.\n",
      "rand : Convenience function that accepts dimensions as input, e.g.,\n",
      "       ``rand(2,2)`` would generate a 2-by-2 array of floats,\n",
      "       uniformly distributed over ``[0, 1)``.\n",
      "\n",
      "Notes\n",
      "-----\n",
      "The probability density function of the uniform distribution is\n",
      "\n",
      ".. math:: p(x) = \\frac{1}{b - a}\n",
      "\n",
      "anywhere within the interval ``[a, b)``, and zero elsewhere.\n",
      "\n",
      "When ``high`` == ``low``, values of ``low`` will be returned.\n",
      "If ``high`` < ``low``, the results are officially undefined\n",
      "and may eventually raise an error, i.e. do not rely on this\n",
      "function to behave when passed arguments satisfying that\n",
      "inequality condition.\n",
      "\n",
      "Examples\n",
      "--------\n",
      "Draw samples from the distribution:\n",
      "\n",
      ">>> s = np.random.uniform(-1,0,1000)\n",
      "\n",
      "All values are within the given interval:\n",
      "\n",
      ">>> np.all(s >= -1)\n",
      "True\n",
      ">>> np.all(s < 0)\n",
      "True\n",
      "\n",
      "Display the histogram of the samples, along with the\n",
      "probability density function:\n",
      "\n",
      ">>> import matplotlib.pyplot as plt\n",
      ">>> count, bins, ignored = plt.hist(s, 15, normed=True)\n",
      ">>> plt.plot(bins, np.ones_like(bins), linewidth=2, color='r')\n",
      ">>> plt.show()\n",
      "None\n",
      "copysign(x1, x2[, out])\n",
      "\n",
      "Change the sign of x1 to that of x2, element-wise.\n",
      "\n",
      "If both arguments are arrays or sequences, they have to be of the same\n",
      "length. If `x2` is a scalar, its sign will be copied to all elements of\n",
      "`x1`.\n",
      "\n",
      "Parameters\n",
      "----------\n",
      "x1 : array_like\n",
      "    Values to change the sign of.\n",
      "x2 : array_like\n",
      "    The sign of `x2` is copied to `x1`.\n",
      "out : ndarray, optional\n",
      "    Array into which the output is placed. Its type is preserved and it\n",
      "    must be of the right shape to hold the output. See doc.ufuncs.\n",
      "\n",
      "Returns\n",
      "-------\n",
      "out : array_like\n",
      "    The values of `x1` with the sign of `x2`.\n",
      "\n",
      "Examples\n",
      "--------\n",
      ">>> np.copysign(1.3, -1)\n",
      "-1.3\n",
      ">>> 1/np.copysign(0, 1)\n",
      "inf\n",
      ">>> 1/np.copysign(0, -1)\n",
      "-inf\n",
      "\n",
      ">>> np.copysign([-1, 0, 1], -1.1)\n",
      "array([-1., -0., -1.])\n",
      ">>> np.copysign([-1, 0, 1], np.arange(3)-1)\n",
      "array([-1.,  0.,  1.])\n",
      "None\n",
      "ceil(x[, out])\n",
      "\n",
      "Return the ceiling of the input, element-wise.\n",
      "\n",
      "The ceil of the scalar `x` is the smallest integer `i`, such that\n",
      "`i >= x`.  It is often denoted as :math:`\\lceil x \\rceil`.\n",
      "\n",
      "Parameters\n",
      "----------\n",
      "x : array_like\n",
      "    Input data.\n",
      "\n",
      "Returns\n",
      "-------\n",
      "y : ndarray or scalar\n",
      "    The ceiling of each element in `x`, with `float` dtype.\n",
      "\n",
      "See Also\n",
      "--------\n",
      "floor, trunc, rint\n",
      "\n",
      "Examples\n",
      "--------\n",
      ">>> a = np.array([-1.7, -1.5, -0.2, 0.2, 1.5, 1.7, 2.0])\n",
      ">>> np.ceil(a)\n",
      "array([-1., -1., -0.,  1.,  2.,  2.,  2.])\n",
      "None\n",
      "[-0.70804562  4.18232063 -1.95056883  1.52835473 -3.20479068  1.46208217\n",
      " -0.61539676 -0.96702543 -1.04174186 -0.64004029]\n",
      "[-1.  5. -2.  2. -4.  2. -1. -1. -2. -1.]\n",
      "[-3.15888174  4.68616752 -3.57776426 -2.10970633  9.38934605  5.68686519\n",
      " -0.2416306   0.90973483 -8.02534903  0.57701863]\n",
      "[ -4.   5.  -4.  -3.  10.   6.  -1.   1.  -9.   1.]\n"
     ]
    }
   ],
   "source": [
    "#여기가 진짜 해법\n",
    "print(np.info(np.random.uniform))  # 균일 분포 http://terms.naver.com/entry.nhn?docId=3338148&cid=47324&categoryId=47324\n",
    "print(np.info(np.copysign))  # 앞의 부호를 뒤에 복사해줌\n",
    "print(np.info(np.ceil)) # 입력값의 천정(?)을 리턴\n",
    "\n",
    "z = np.random.uniform(-5, +5, 10) # -5에서 5 사이의 실수를 10개\n",
    "print(z)\n",
    "\n",
    "# 이제 z를 0을 기준으로 멀게 round 처리하자\n",
    "print(np.copysign(np.ceil(np.abs(z)), z))\n",
    "\n",
    "Z = np.random.uniform(-10,+10,10)\n",
    "print(Z)\n",
    "print (np.copysign(np.ceil(np.abs(Z)), Z))"
   ]
  },
  {
   "cell_type": "markdown",
   "metadata": {},
   "source": [
    "#### 30. How to find common values between two arrays? (★☆☆)"
   ]
  },
  {
   "cell_type": "code",
   "execution_count": 136,
   "metadata": {
    "collapsed": false
   },
   "outputs": [
    {
     "name": "stdout",
     "output_type": "stream",
     "text": [
      " intersect1d(ar1, ar2, assume_unique=False)\n",
      "\n",
      "Find the intersection of two arrays.\n",
      "\n",
      "Return the sorted, unique values that are in both of the input arrays.\n",
      "\n",
      "Parameters\n",
      "----------\n",
      "ar1, ar2 : array_like\n",
      "    Input arrays.\n",
      "assume_unique : bool\n",
      "    If True, the input arrays are both assumed to be unique, which\n",
      "    can speed up the calculation.  Default is False.\n",
      "\n",
      "Returns\n",
      "-------\n",
      "intersect1d : ndarray\n",
      "    Sorted 1D array of common and unique elements.\n",
      "\n",
      "See Also\n",
      "--------\n",
      "numpy.lib.arraysetops : Module with a number of other functions for\n",
      "                        performing set operations on arrays.\n",
      "\n",
      "Examples\n",
      "--------\n",
      ">>> np.intersect1d([1, 3, 4, 3], [3, 1, 2, 1])\n",
      "array([1, 3])\n",
      "\n",
      "To intersect more than two arrays, use functools.reduce:\n",
      "\n",
      ">>> from functools import reduce\n",
      ">>> reduce(np.intersect1d, ([1, 3, 4, 3], [3, 1, 2, 1], [6, 3, 4, 2]))\n",
      "array([3])\n",
      "None\n"
     ]
    }
   ],
   "source": [
    "print(np.info(np.intersect1d))"
   ]
  },
  {
   "cell_type": "code",
   "execution_count": 142,
   "metadata": {
    "collapsed": false
   },
   "outputs": [
    {
     "name": "stdout",
     "output_type": "stream",
     "text": [
      "[4 1 5 1 4 0 7 9 3 2] [6 1 8 7 4 4 5 7 2 7]\n",
      "[1 2 4 5 7]\n"
     ]
    }
   ],
   "source": [
    "Z1 = np.random.randint(0,10,10)  # 0에서 9까지 10개의 랜덤 정수 생성\n",
    "Z2 = np.random.randint(0,10,10)\n",
    "print(Z1, Z2)\n",
    "print(np.intersect1d(Z1, Z2))"
   ]
  },
  {
   "cell_type": "code",
   "execution_count": 141,
   "metadata": {
    "collapsed": false
   },
   "outputs": [
    {
     "name": "stdout",
     "output_type": "stream",
     "text": [
      "randint(low, high=None, size=None, dtype='l')\n",
      "\n",
      "Return random integers from `low` (inclusive) to `high` (exclusive).\n",
      "\n",
      "Return random integers from the \"discrete uniform\" distribution of\n",
      "the specified dtype in the \"half-open\" interval [`low`, `high`). If\n",
      "`high` is None (the default), then results are from [0, `low`).\n",
      "\n",
      "Parameters\n",
      "----------\n",
      "low : int\n",
      "    Lowest (signed) integer to be drawn from the distribution (unless\n",
      "    ``high=None``, in which case this parameter is one above the\n",
      "    *highest* such integer).\n",
      "high : int, optional\n",
      "    If provided, one above the largest (signed) integer to be drawn\n",
      "    from the distribution (see above for behavior if ``high=None``).\n",
      "size : int or tuple of ints, optional\n",
      "    Output shape.  If the given shape is, e.g., ``(m, n, k)``, then\n",
      "    ``m * n * k`` samples are drawn.  Default is None, in which case a\n",
      "    single value is returned.\n",
      "dtype : dtype, optional\n",
      "    Desired dtype of the result. All dtypes are determined by their\n",
      "    name, i.e., 'int64', 'int', etc, so byteorder is not available\n",
      "    and a specific precision may have different C types depending\n",
      "    on the platform. The default value is 'np.int'.\n",
      "\n",
      "    .. versionadded:: 1.11.0\n",
      "\n",
      "Returns\n",
      "-------\n",
      "out : int or ndarray of ints\n",
      "    `size`-shaped array of random integers from the appropriate\n",
      "    distribution, or a single such random int if `size` not provided.\n",
      "\n",
      "See Also\n",
      "--------\n",
      "random.random_integers : similar to `randint`, only for the closed\n",
      "    interval [`low`, `high`], and 1 is the lowest value if `high` is\n",
      "    omitted. In particular, this other one is the one to use to generate\n",
      "    uniformly distributed discrete non-integers.\n",
      "\n",
      "Examples\n",
      "--------\n",
      ">>> np.random.randint(2, size=10)\n",
      "array([1, 0, 0, 0, 1, 1, 0, 0, 1, 0])\n",
      ">>> np.random.randint(1, size=10)\n",
      "array([0, 0, 0, 0, 0, 0, 0, 0, 0, 0])\n",
      "\n",
      "Generate a 2 x 4 array of ints between 0 and 4, inclusive:\n",
      "\n",
      ">>> np.random.randint(5, size=(2, 4))\n",
      "array([[4, 0, 2, 1],\n",
      "       [3, 2, 2, 0]])\n",
      "None\n"
     ]
    }
   ],
   "source": [
    "print(np.info(np.random.randint))"
   ]
  },
  {
   "cell_type": "markdown",
   "metadata": {},
   "source": [
    "#### 31. How to ignore all numpy warnings (not recommended)? (★☆☆)"
   ]
  },
  {
   "cell_type": "code",
   "execution_count": 145,
   "metadata": {
    "collapsed": false
   },
   "outputs": [
    {
     "name": "stdout",
     "output_type": "stream",
     "text": [
      "{'over': 'ignore', 'invalid': 'ignore', 'under': 'ignore', 'divide': 'ignore'}\n",
      "{'over': 'ignore', 'invalid': 'ignore', 'under': 'ignore', 'divide': 'ignore'}\n"
     ]
    }
   ],
   "source": [
    "# 안좋은 방식이다\n",
    "defaults = np.geterr()\n",
    "print(defaults)\n",
    "defaults = np.seterr(all=\"ignore\")\n",
    "print(defaults)\n",
    "Z= np.ones(1)/0"
   ]
  },
  {
   "cell_type": "code",
   "execution_count": 148,
   "metadata": {
    "collapsed": false
   },
   "outputs": [
    {
     "name": "stdout",
     "output_type": "stream",
     "text": [
      "{'over': 'ignore', 'invalid': 'ignore', 'under': 'ignore', 'divide': 'ignore'}\n"
     ]
    }
   ],
   "source": [
    "# 정상으로 되돌리기\n",
    "_ = np.seterr(**defaults)\n",
    "defaults = np.geterr()\n",
    "print(defaults)"
   ]
  },
  {
   "cell_type": "code",
   "execution_count": 150,
   "metadata": {
    "collapsed": true
   },
   "outputs": [],
   "source": [
    "# An equivalent way, with a context manager:\n",
    "\n",
    "with np.errstate(divide='ignore'):\n",
    "    Z = np.ones(1) / 0"
   ]
  },
  {
   "cell_type": "code",
   "execution_count": 151,
   "metadata": {
    "collapsed": false
   },
   "outputs": [
    {
     "name": "stdout",
     "output_type": "stream",
     "text": [
      " seterr(all=None, divide=None, over=None, under=None, invalid=None)\n",
      "\n",
      "Set how floating-point errors are handled.\n",
      "\n",
      "Note that operations on integer scalar types (such as `int16`) are\n",
      "handled like floating point, and are affected by these settings.\n",
      "\n",
      "Parameters\n",
      "----------\n",
      "all : {'ignore', 'warn', 'raise', 'call', 'print', 'log'}, optional\n",
      "    Set treatment for all types of floating-point errors at once:\n",
      "\n",
      "    - ignore: Take no action when the exception occurs.\n",
      "    - warn: Print a `RuntimeWarning` (via the Python `warnings` module).\n",
      "    - raise: Raise a `FloatingPointError`.\n",
      "    - call: Call a function specified using the `seterrcall` function.\n",
      "    - print: Print a warning directly to ``stdout``.\n",
      "    - log: Record error in a Log object specified by `seterrcall`.\n",
      "\n",
      "    The default is not to change the current behavior.\n",
      "divide : {'ignore', 'warn', 'raise', 'call', 'print', 'log'}, optional\n",
      "    Treatment for division by zero.\n",
      "over : {'ignore', 'warn', 'raise', 'call', 'print', 'log'}, optional\n",
      "    Treatment for floating-point overflow.\n",
      "under : {'ignore', 'warn', 'raise', 'call', 'print', 'log'}, optional\n",
      "    Treatment for floating-point underflow.\n",
      "invalid : {'ignore', 'warn', 'raise', 'call', 'print', 'log'}, optional\n",
      "    Treatment for invalid floating-point operation.\n",
      "\n",
      "Returns\n",
      "-------\n",
      "old_settings : dict\n",
      "    Dictionary containing the old settings.\n",
      "\n",
      "See also\n",
      "--------\n",
      "seterrcall : Set a callback function for the 'call' mode.\n",
      "geterr, geterrcall, errstate\n",
      "\n",
      "Notes\n",
      "-----\n",
      "The floating-point exceptions are defined in the IEEE 754 standard [1]:\n",
      "\n",
      "- Division by zero: infinite result obtained from finite numbers.\n",
      "- Overflow: result too large to be expressed.\n",
      "- Underflow: result so close to zero that some precision\n",
      "  was lost.\n",
      "- Invalid operation: result is not an expressible number, typically\n",
      "  indicates that a NaN was produced.\n",
      "\n",
      ".. [1] http://en.wikipedia.org/wiki/IEEE_754\n",
      "\n",
      "Examples\n",
      "--------\n",
      ">>> old_settings = np.seterr(all='ignore')  #seterr to known value\n",
      ">>> np.seterr(over='raise')\n",
      "{'over': 'ignore', 'divide': 'ignore', 'invalid': 'ignore',\n",
      " 'under': 'ignore'}\n",
      ">>> np.seterr(**old_settings)  # reset to default\n",
      "{'over': 'raise', 'divide': 'ignore', 'invalid': 'ignore', 'under': 'ignore'}\n",
      "\n",
      ">>> np.int16(32000) * np.int16(3)\n",
      "30464\n",
      ">>> old_settings = np.seterr(all='warn', over='raise')\n",
      ">>> np.int16(32000) * np.int16(3)\n",
      "Traceback (most recent call last):\n",
      "  File \"<stdin>\", line 1, in <module>\n",
      "FloatingPointError: overflow encountered in short_scalars\n",
      "\n",
      ">>> old_settings = np.seterr(all='print')\n",
      ">>> np.geterr()\n",
      "{'over': 'print', 'divide': 'print', 'invalid': 'print', 'under': 'print'}\n",
      ">>> np.int16(32000) * np.int16(3)\n",
      "Warning: overflow encountered in short_scalars\n",
      "30464\n",
      "None\n",
      " errstate()\n",
      "\n",
      "errstate(**kwargs)\n",
      "\n",
      "Context manager for floating-point error handling.\n",
      "\n",
      "Using an instance of `errstate` as a context manager allows statements in\n",
      "that context to execute with a known error handling behavior. Upon entering\n",
      "the context the error handling is set with `seterr` and `seterrcall`, and\n",
      "upon exiting it is reset to what it was before.\n",
      "\n",
      "Parameters\n",
      "----------\n",
      "kwargs : {divide, over, under, invalid}\n",
      "    Keyword arguments. The valid keywords are the possible floating-point\n",
      "    exceptions. Each keyword should have a string value that defines the\n",
      "    treatment for the particular error. Possible values are\n",
      "    {'ignore', 'warn', 'raise', 'call', 'print', 'log'}.\n",
      "\n",
      "See Also\n",
      "--------\n",
      "seterr, geterr, seterrcall, geterrcall\n",
      "\n",
      "Notes\n",
      "-----\n",
      "The ``with`` statement was introduced in Python 2.5, and can only be used\n",
      "there by importing it: ``from __future__ import with_statement``. In\n",
      "earlier Python versions the ``with`` statement is not available.\n",
      "\n",
      "For complete documentation of the types of floating-point exceptions and\n",
      "treatment options, see `seterr`.\n",
      "\n",
      "Examples\n",
      "--------\n",
      ">>> from __future__ import with_statement  # use 'with' in Python 2.5\n",
      ">>> olderr = np.seterr(all='ignore')  # Set error handling to known state.\n",
      "\n",
      ">>> np.arange(3) / 0.\n",
      "array([ NaN,  Inf,  Inf])\n",
      ">>> with np.errstate(divide='warn'):\n",
      "...     np.arange(3) / 0.\n",
      "...\n",
      "__main__:2: RuntimeWarning: divide by zero encountered in divide\n",
      "array([ NaN,  Inf,  Inf])\n",
      "\n",
      ">>> np.sqrt(-1)\n",
      "nan\n",
      ">>> with np.errstate(invalid='raise'):\n",
      "...     np.sqrt(-1)\n",
      "Traceback (most recent call last):\n",
      "  File \"<stdin>\", line 2, in <module>\n",
      "FloatingPointError: invalid value encountered in sqrt\n",
      "\n",
      "Outside the context the error handling behavior has not changed:\n",
      "\n",
      ">>> np.geterr()\n",
      "{'over': 'warn', 'divide': 'warn', 'invalid': 'warn',\n",
      "'under': 'ignore'}\n",
      "\n",
      "\n",
      "Methods:\n",
      "\n",
      "None\n"
     ]
    }
   ],
   "source": [
    "print(np.info(np.seterr))\n",
    "print(np.info(np.errstate))"
   ]
  },
  {
   "cell_type": "code",
   "execution_count": 157,
   "metadata": {
    "collapsed": false
   },
   "outputs": [
    {
     "name": "stdout",
     "output_type": "stream",
     "text": [
      "{'over': 'ignore', 'invalid': 'ignore', 'under': 'ignore', 'divide': 'warn'}\n"
     ]
    },
    {
     "name": "stderr",
     "output_type": "stream",
     "text": [
      "C:\\Program Files\\Anaconda3\\lib\\site-packages\\ipykernel\\__main__.py:3: RuntimeWarning: divide by zero encountered in true_divide\n",
      "  app.launch_new_instance()\n"
     ]
    }
   ],
   "source": [
    "defaults=np.seterr(divide='warn')  # 경고가 뜨게 해봄\n",
    "print(defaults)\n",
    "Z = np.ones(1) / 0"
   ]
  },
  {
   "cell_type": "markdown",
   "metadata": {},
   "source": [
    "#### 32. Is the following expressions true? (★☆☆)"
   ]
  },
  {
   "cell_type": "markdown",
   "metadata": {},
   "source": [
    "```python\n",
    "np.sqrt(-1) == np.emath.sqrt(-1)\n",
    "```"
   ]
  },
  {
   "cell_type": "code",
   "execution_count": 162,
   "metadata": {
    "collapsed": false
   },
   "outputs": [
    {
     "name": "stdout",
     "output_type": "stream",
     "text": [
      "False\n",
      "nan 1j\n"
     ]
    }
   ],
   "source": [
    "print(np.sqrt(-1) == np.emath.sqrt(-1))  # emath는 허수를 나타낼 수 있다.\n",
    "print(np.sqrt(-1), np.emath.sqrt(-1))"
   ]
  },
  {
   "cell_type": "markdown",
   "metadata": {},
   "source": [
    "#### 33. How to get the dates of yesterday, today and tomorrow? (★☆☆)"
   ]
  },
  {
   "cell_type": "code",
   "execution_count": 165,
   "metadata": {
    "collapsed": false
   },
   "outputs": [
    {
     "name": "stdout",
     "output_type": "stream",
     "text": [
      "2017-02-01 2017-02-02 2017-02-03\n"
     ]
    }
   ],
   "source": [
    "#np.info(np.datetime64)\n",
    "yesterday = np.datetime64('today', 'D') - np.timedelta64(1, 'D')\n",
    "today = np.datetime64('today', 'D')\n",
    "tomorrow = np.datetime64('today', 'D') + np.timedelta64(1, 'D')\n",
    "print(yesterday, today, tomorrow)"
   ]
  },
  {
   "cell_type": "markdown",
   "metadata": {},
   "source": [
    "#### 34. How to get all the dates corresponding to the month of July 2016? (★★☆)"
   ]
  },
  {
   "cell_type": "code",
   "execution_count": 166,
   "metadata": {
    "collapsed": false
   },
   "outputs": [
    {
     "name": "stdout",
     "output_type": "stream",
     "text": [
      "['2016-07-01' '2016-07-02' '2016-07-03' '2016-07-04' '2016-07-05'\n",
      " '2016-07-06' '2016-07-07' '2016-07-08' '2016-07-09' '2016-07-10'\n",
      " '2016-07-11' '2016-07-12' '2016-07-13' '2016-07-14' '2016-07-15'\n",
      " '2016-07-16' '2016-07-17' '2016-07-18' '2016-07-19' '2016-07-20'\n",
      " '2016-07-21' '2016-07-22' '2016-07-23' '2016-07-24' '2016-07-25'\n",
      " '2016-07-26' '2016-07-27' '2016-07-28' '2016-07-29' '2016-07-30'\n",
      " '2016-07-31']\n"
     ]
    }
   ],
   "source": [
    "Z=np.arange('2016-07', '2016-08', dtype='datetime64[D]')\n",
    "print(Z)"
   ]
  },
  {
   "cell_type": "markdown",
   "metadata": {},
   "source": [
    "#### 35. How to compute ((A+B)\\*(-A/2)) in place (without copy)? (★★☆)"
   ]
  },
  {
   "cell_type": "code",
   "execution_count": 171,
   "metadata": {
    "collapsed": false
   },
   "outputs": [
    {
     "name": "stdout",
     "output_type": "stream",
     "text": [
      "[ 1.  1.  1.] [ 2.  2.  2.] [ 3.  3.  3.]\n",
      "[ 3.  3.  3.]\n",
      "[-0.5 -0.5 -0.5]\n",
      "[-1.5 -1.5 -1.5]\n"
     ]
    }
   ],
   "source": [
    "A = np.ones(3)*1\n",
    "B = np.ones(3)*2\n",
    "C = np.ones(3)*3\n",
    "print(A,B,C)\n",
    "\n",
    "np.add(A,B, out=B)\n",
    "print(B)\n",
    "np,divide(-A,2, out=A)\n",
    "print(A)\n",
    "np.multiply(A,B, out=A)\n",
    "print(A)"
   ]
  },
  {
   "cell_type": "markdown",
   "metadata": {},
   "source": [
    "#### 36. Extract the integer part of a random array using 5 different methods (★★☆)"
   ]
  },
  {
   "cell_type": "code",
   "execution_count": 177,
   "metadata": {
    "collapsed": false
   },
   "outputs": [
    {
     "name": "stdout",
     "output_type": "stream",
     "text": [
      "[ 7.7596648   1.25305497  0.41920487  4.4467078   8.11080177  7.64587918\n",
      "  3.35103995  2.98772584  5.39125131  1.83997455]\n",
      "[ 7.  1.  0.  4.  8.  7.  3.  2.  5.  1.]\n",
      "[ 7.  1.  0.  4.  8.  7.  3.  2.  5.  1.]\n",
      "[ 7.  1.  0.  4.  8.  7.  3.  2.  5.  1.]\n",
      "[7 1 0 4 8 7 3 2 5 1]\n",
      "[ 7.  1.  0.  4.  8.  7.  3.  2.  5.  1.]\n"
     ]
    }
   ],
   "source": [
    "import timeit\n",
    "z = np.random.uniform(0,10,10)\n",
    "print(z)\n",
    "\n",
    "# astype(int)를 빼고는 모두 floor 형태로 소수점이 사라짐\n",
    "print(z - z%1)\n",
    "print(np.floor(z))\n",
    "print(np.ceil(z)-1)\n",
    "print(z.astype(int))\n",
    "print(np.trunc(z))"
   ]
  },
  {
   "cell_type": "markdown",
   "metadata": {},
   "source": [
    "#### 37. Create a 5x5 matrix with row values ranging from 0 to 4 (★★☆)"
   ]
  },
  {
   "cell_type": "code",
   "execution_count": 179,
   "metadata": {
    "collapsed": false
   },
   "outputs": [
    {
     "name": "stdout",
     "output_type": "stream",
     "text": [
      "[[ 0.  1.  2.  3.  4.]\n",
      " [ 0.  1.  2.  3.  4.]\n",
      " [ 0.  1.  2.  3.  4.]\n",
      " [ 0.  1.  2.  3.  4.]\n",
      " [ 0.  1.  2.  3.  4.]]\n"
     ]
    }
   ],
   "source": [
    "z = np.zeros((5,5))\n",
    "z += np.arange(0,5)\n",
    "print(z)"
   ]
  },
  {
   "cell_type": "markdown",
   "metadata": {},
   "source": [
    "\n",
    "#### 38. Consider a generator function that generates 10 integers and use it to build an array (★☆☆)\n",
    "\n",
    "yield, generator에 대한 참고 링크 http://stackoverflow.com/questions/231767/what-does-the-yield-keyword-do"
   ]
  },
  {
   "cell_type": "code",
   "execution_count": 184,
   "metadata": {
    "collapsed": false
   },
   "outputs": [
    {
     "name": "stdout",
     "output_type": "stream",
     "text": [
      "fromiter(iterable, dtype, count=-1)\n",
      "\n",
      "Create a new 1-dimensional array from an iterable object.\n",
      "\n",
      "Parameters\n",
      "----------\n",
      "iterable : iterable object\n",
      "    An iterable object providing data for the array.\n",
      "dtype : data-type\n",
      "    The data-type of the returned array.\n",
      "count : int, optional\n",
      "    The number of items to read from *iterable*.  The default is -1,\n",
      "    which means all data is read.\n",
      "\n",
      "Returns\n",
      "-------\n",
      "out : ndarray\n",
      "    The output array.\n",
      "\n",
      "Notes\n",
      "-----\n",
      "Specify `count` to improve performance.  It allows ``fromiter`` to\n",
      "pre-allocate the output array, instead of resizing it on demand.\n",
      "\n",
      "Examples\n",
      "--------\n",
      ">>> iterable = (x*x for x in range(5))\n",
      ">>> np.fromiter(iterable, np.float)\n",
      "array([  0.,   1.,   4.,   9.,  16.])\n"
     ]
    }
   ],
   "source": [
    "np.info(np.fromiter)"
   ]
  },
  {
   "cell_type": "code",
   "execution_count": 188,
   "metadata": {
    "collapsed": false
   },
   "outputs": [
    {
     "name": "stdout",
     "output_type": "stream",
     "text": [
      "[ 0.  1.  2.  3.  4.  5.  6.  7.  8.  9.]\n",
      "[ 0.  1.  2.]\n"
     ]
    }
   ],
   "source": [
    "def generate():\n",
    "    for x in range(10):\n",
    "        yield x\n",
    "        \n",
    "z = np.fromiter(generate(), dtype=float, count= -1)  # interable 한 녀석을 집어넣고, 리턴값의 타입을 정한다. 빼낼 개수를 -1로 해주면 전부\n",
    "print(z)\n",
    "\n",
    "z = np.fromiter(generate(), dtype=float, count= 3)  # interable 한 녀석을 집어넣고, 리턴값의 타입을 정한다. 빼낼 개수를 -1로 해주면 전부\n",
    "print(z)"
   ]
  },
  {
   "cell_type": "markdown",
   "metadata": {},
   "source": [
    "#### 39. Create a vector of size 10 with values ranging from 0 to 1, both excluded (★★☆)\n",
    "\n",
    "- both excluded 란 0과 1을 제외하란 이야기임\n",
    "- endpoint=True이면 끝을 추가하는 것"
   ]
  },
  {
   "cell_type": "code",
   "execution_count": 191,
   "metadata": {
    "collapsed": false
   },
   "outputs": [
    {
     "name": "stdout",
     "output_type": "stream",
     "text": [
      "[ 0.09090909  0.18181818  0.27272727  0.36363636  0.45454545  0.54545455\n",
      "  0.63636364  0.72727273  0.81818182  0.90909091]\n"
     ]
    }
   ],
   "source": [
    "#np.info(np.linspace)\n",
    "z = np.linspace(0,1,12)[1:-1]\n",
    "print(z)"
   ]
  },
  {
   "cell_type": "markdown",
   "metadata": {},
   "source": [
    "#### 40. Create a random vector of size 10 and sort it (★★☆)"
   ]
  },
  {
   "cell_type": "code",
   "execution_count": 195,
   "metadata": {
    "collapsed": false
   },
   "outputs": [
    {
     "name": "stdout",
     "output_type": "stream",
     "text": [
      "[ 0.02823866  0.28757384  0.41022328  0.20471169  0.20687444  0.2526895\n",
      "  0.08261989  0.49117001  0.29533181  0.24818144]\n",
      "[ 0.02823866  0.08261989  0.20471169  0.20687444  0.24818144  0.2526895\n",
      "  0.28757384  0.29533181  0.41022328  0.49117001]\n"
     ]
    }
   ],
   "source": [
    "#info(sort) # 보통 numpy는 view만 제공해주고, python 기본 함수는 실제로 바꿔주는 듯 하다\n",
    "z = np.random.random(10)\n",
    "print(z)\n",
    "z.sort()\n",
    "print(z)"
   ]
  },
  {
   "cell_type": "markdown",
   "metadata": {},
   "source": [
    "#### 41. How to sum a small array faster than np.sum? (★★☆)"
   ]
  },
  {
   "cell_type": "code",
   "execution_count": 196,
   "metadata": {
    "collapsed": false
   },
   "outputs": [],
   "source": [
    "import timeit\n",
    "z = np.arange(10)"
   ]
  },
  {
   "cell_type": "code",
   "execution_count": 198,
   "metadata": {
    "collapsed": false
   },
   "outputs": [
    {
     "name": "stdout",
     "output_type": "stream",
     "text": [
      "45\n",
      "45\n"
     ]
    }
   ],
   "source": [
    "print(np.sum(z))\n",
    "print(np.add.reduce(z))"
   ]
  },
  {
   "cell_type": "code",
   "execution_count": 208,
   "metadata": {
    "collapsed": false
   },
   "outputs": [
    {
     "name": "stdout",
     "output_type": "stream",
     "text": [
      "3.7093930155469934\n",
      "2.4507546607046606\n"
     ]
    }
   ],
   "source": [
    "print(timeit.Timer('import numpy as np;z = np.arange(10);np.sum(z)').timeit())\n",
    "print(timeit.Timer('import numpy as np;z = np.arange(10);np.add.reduce(z)').timeit())"
   ]
  },
  {
   "cell_type": "code",
   "execution_count": 213,
   "metadata": {
    "collapsed": false
   },
   "outputs": [],
   "source": [
    "#https://docs.scipy.org/doc/numpy/reference/generated/numpy.ufunc.reduce.html\n",
    "#np.info(np.add.reduce)"
   ]
  },
  {
   "cell_type": "markdown",
   "metadata": {},
   "source": [
    "#### 42. Consider two random array A anb B, check if they are equal (★★☆)"
   ]
  },
  {
   "cell_type": "code",
   "execution_count": 244,
   "metadata": {
    "collapsed": false
   },
   "outputs": [
    {
     "name": "stdout",
     "output_type": "stream",
     "text": [
      "[1 1 1 0 0] [0 0 1 0 1]\n",
      "False\n",
      "True\n",
      "False\n"
     ]
    }
   ],
   "source": [
    "A = np.random.randint(0,2,5)\n",
    "B = np.random.randint(0,2,5)\n",
    "\n",
    "print(A,B)\n",
    "# Assuming identical shape of the arrays and a tolerance for the comparison of values\n",
    "equal = np.allclose(A,B)\n",
    "print(equal)\n",
    "\n",
    "equal = np.allclose(A,B, 1, 1)  # 똘레랑스 = 허용한도를 1로 바꿔줌\n",
    "print(equal)\n",
    "\n",
    "# Checking both the shape and the element values, no tolerance (values have to be exactly equal)\n",
    "equal = np.array_equal(A,B)\n",
    "print(equal)"
   ]
  },
  {
   "cell_type": "code",
   "execution_count": 243,
   "metadata": {
    "collapsed": false
   },
   "outputs": [
    {
     "name": "stdout",
     "output_type": "stream",
     "text": [
      " allclose(a, b, rtol=1e-05, atol=1e-08, equal_nan=False)\n",
      "\n",
      "Returns True if two arrays are element-wise equal within a tolerance.\n",
      "\n",
      "The tolerance values are positive, typically very small numbers.  The\n",
      "relative difference (`rtol` * abs(`b`)) and the absolute difference\n",
      "`atol` are added together to compare against the absolute difference\n",
      "between `a` and `b`.\n",
      "\n",
      "If either array contains one or more NaNs, False is returned.\n",
      "Infs are treated as equal if they are in the same place and of the same\n",
      "sign in both arrays.\n",
      "\n",
      "Parameters\n",
      "----------\n",
      "a, b : array_like\n",
      "    Input arrays to compare.\n",
      "rtol : float\n",
      "    The relative tolerance parameter (see Notes).\n",
      "atol : float\n",
      "    The absolute tolerance parameter (see Notes).\n",
      "equal_nan : bool\n",
      "    Whether to compare NaN's as equal.  If True, NaN's in `a` will be\n",
      "    considered equal to NaN's in `b` in the output array.\n",
      "\n",
      "    .. versionadded:: 1.10.0\n",
      "\n",
      "Returns\n",
      "-------\n",
      "allclose : bool\n",
      "    Returns True if the two arrays are equal within the given\n",
      "    tolerance; False otherwise.\n",
      "\n",
      "See Also\n",
      "--------\n",
      "isclose, all, any\n",
      "\n",
      "Notes\n",
      "-----\n",
      "If the following equation is element-wise True, then allclose returns\n",
      "True.\n",
      "\n",
      " absolute(`a` - `b`) <= (`atol` + `rtol` * absolute(`b`))\n",
      "\n",
      "The above equation is not symmetric in `a` and `b`, so that\n",
      "`allclose(a, b)` might be different from `allclose(b, a)` in\n",
      "some rare cases.\n",
      "\n",
      "Examples\n",
      "--------\n",
      ">>> np.allclose([1e10,1e-7], [1.00001e10,1e-8])\n",
      "False\n",
      ">>> np.allclose([1e10,1e-8], [1.00001e10,1e-9])\n",
      "True\n",
      ">>> np.allclose([1e10,1e-8], [1.0001e10,1e-9])\n",
      "False\n",
      ">>> np.allclose([1.0, np.nan], [1.0, np.nan])\n",
      "False\n",
      ">>> np.allclose([1.0, np.nan], [1.0, np.nan], equal_nan=True)\n",
      "True\n"
     ]
    }
   ],
   "source": [
    "# 코멘트 대로라면 allclose는 shape은 똑같아야 하고 값은 유도리 있다는 건데\n",
    "np.info(np.allclose)"
   ]
  },
  {
   "cell_type": "markdown",
   "metadata": {},
   "source": [
    "#### 43. Make an array immutable (read-only) (★★☆)"
   ]
  },
  {
   "cell_type": "code",
   "execution_count": 245,
   "metadata": {
    "collapsed": false
   },
   "outputs": [
    {
     "name": "stdout",
     "output_type": "stream",
     "text": [
      "[ 1.  1.  1.  1.  1.  1.  1.  1.  1.  1.]\n",
      "[ 1.  1.  2.  2.  2.  2.  2.  2.  1.  1.]\n",
      "True\n"
     ]
    },
    {
     "ename": "ValueError",
     "evalue": "assignment destination is read-only",
     "output_type": "error",
     "traceback": [
      "\u001b[0;31m---------------------------------------------------------------------------\u001b[0m",
      "\u001b[0;31mValueError\u001b[0m                                Traceback (most recent call last)",
      "\u001b[0;32m<ipython-input-245-7ce2534a928d>\u001b[0m in \u001b[0;36m<module>\u001b[0;34m()\u001b[0m\n\u001b[1;32m      5\u001b[0m \u001b[0mprint\u001b[0m\u001b[1;33m(\u001b[0m\u001b[0mZ\u001b[0m\u001b[1;33m.\u001b[0m\u001b[0mflags\u001b[0m\u001b[1;33m.\u001b[0m\u001b[0mwriteable\u001b[0m\u001b[1;33m)\u001b[0m\u001b[1;33m\u001b[0m\u001b[0m\n\u001b[1;32m      6\u001b[0m \u001b[0mZ\u001b[0m\u001b[1;33m.\u001b[0m\u001b[0mflags\u001b[0m\u001b[1;33m.\u001b[0m\u001b[0mwriteable\u001b[0m \u001b[1;33m=\u001b[0m \u001b[1;32mFalse\u001b[0m\u001b[1;33m\u001b[0m\u001b[0m\n\u001b[0;32m----> 7\u001b[0;31m \u001b[0mZ\u001b[0m\u001b[1;33m[\u001b[0m\u001b[1;36m2\u001b[0m\u001b[1;33m:\u001b[0m\u001b[1;36m8\u001b[0m\u001b[1;33m]\u001b[0m \u001b[1;33m=\u001b[0m \u001b[1;36m5\u001b[0m\u001b[1;33m\u001b[0m\u001b[0m\n\u001b[0m\u001b[1;32m      8\u001b[0m \u001b[0mprint\u001b[0m\u001b[1;33m(\u001b[0m\u001b[0mZ\u001b[0m\u001b[1;33m)\u001b[0m\u001b[1;33m\u001b[0m\u001b[0m\n",
      "\u001b[0;31mValueError\u001b[0m: assignment destination is read-only"
     ]
    }
   ],
   "source": [
    "Z = np.ones(10)\n",
    "print(Z)\n",
    "Z[2:8] = 2\n",
    "print(Z)\n",
    "print(Z.flags.writeable)\n",
    "Z.flags.writeable = False\n",
    "Z[2:8] = 5\n",
    "print(Z)"
   ]
  },
  {
   "cell_type": "markdown",
   "metadata": {},
   "source": [
    "\n",
    "#### 44. Consider a random 10x2 matrix representing cartesian coordinates, convert them to polar coordinates (★★☆)\n",
    "\n",
    "- (x,y) 라는 데카르트의 좌표 체계에서 \n",
    "- (0.0) 에서의 (거리, 각도) 체계로 바꾸라는 것"
   ]
  },
  {
   "cell_type": "code",
   "execution_count": 247,
   "metadata": {
    "collapsed": false
   },
   "outputs": [
    {
     "name": "stdout",
     "output_type": "stream",
     "text": [
      "[[ 0.82436603  0.73283519]\n",
      " [ 0.98697593  0.62166815]\n",
      " [ 0.97600403  0.90937088]\n",
      " [ 0.10849603  0.02096513]\n",
      " [ 0.21454487  0.80848334]\n",
      " [ 0.8861501   0.43735889]\n",
      " [ 0.33073922  0.67955951]\n",
      " [ 0.82239479  0.91065069]\n",
      " [ 0.54814998  0.1061181 ]\n",
      " [ 0.71818132  0.29226022]]\n",
      "[ 0.82436603  0.98697593  0.97600403  0.10849603  0.21454487  0.8861501\n",
      "  0.33073922  0.82239479  0.54814998  0.71818132] [ 0.73283519  0.62166815  0.90937088  0.02096513  0.80848334  0.43735889\n",
      "  0.67955951  0.91065069  0.1061181   0.29226022]\n",
      "[ 1.10300805  1.1664445   1.33399372  0.11050306  0.83646567  0.98820281\n",
      "  0.75577083  1.22703622  0.55832737  0.77537117] [ 0.72668665  0.56209485  0.75007075  0.19088146  1.31140763  0.45847386\n",
      "  1.11784806  0.83627953  0.19122764  0.38647898]\n"
     ]
    }
   ],
   "source": [
    "z = np.random.random((10,2))\n",
    "print(z)\n",
    "X, Y = z[:,0], z[:,1]\n",
    "print(X, Y)\n",
    "\n",
    "R = np.sqrt(X**2 + Y**2)\n",
    "T = np.arctan2(Y,X)\n",
    "print(R,T)\n"
   ]
  },
  {
   "cell_type": "markdown",
   "metadata": {},
   "source": [
    "#### 45. Create random vector of size 10 and replace the maximum value by 0 (★★☆)"
   ]
  },
  {
   "cell_type": "code",
   "execution_count": 249,
   "metadata": {
    "collapsed": false
   },
   "outputs": [
    {
     "name": "stdout",
     "output_type": "stream",
     "text": [
      "[ 0.74733327  0.05797907  0.3544584   0.48320521  0.13662046  0.79188025\n",
      "  0.79961154  0.51319684  0.94499143  0.12857302]\n",
      "8 8\n",
      "[ 0.74733327  0.05797907  0.3544584   0.48320521  0.13662046  0.79188025\n",
      "  0.79961154  0.51319684  0.          0.12857302]\n"
     ]
    }
   ],
   "source": [
    "z = np.random.random(10)\n",
    "print(z)\n",
    "print(z.argmax(), np.argmax(z))\n",
    "z[np.argmax(z)] = 0\n",
    "print(z)"
   ]
  },
  {
   "cell_type": "markdown",
   "metadata": {},
   "source": [
    "#### 46. Create a structured array with `x` and `y` coordinates covering the \\[0,1\\]x\\[0,1\\] area (★★☆)\n",
    "\n",
    "meshgrid는 어디에 쓰는 것인가? http://stackoverflow.com/questions/36013063/what-is-purpose-of-meshgrid-in-python\n",
    "- 대략 함수등을 그릴때에 사용하는 것으로 보인다, 하나의 네모안에 들어갈 각각의 x,y 좌표값을 만들어준다"
   ]
  },
  {
   "cell_type": "code",
   "execution_count": 252,
   "metadata": {
    "collapsed": false
   },
   "outputs": [],
   "source": [
    "#np.info(np.meshgrid)"
   ]
  },
  {
   "cell_type": "code",
   "execution_count": 256,
   "metadata": {
    "collapsed": false
   },
   "outputs": [
    {
     "name": "stdout",
     "output_type": "stream",
     "text": [
      "[[ 0.          0.06346652  0.12693304 ...,  6.15625227  6.21971879\n",
      "   6.28318531]\n",
      " [ 0.          0.06346652  0.12693304 ...,  6.15625227  6.21971879\n",
      "   6.28318531]\n",
      " [ 0.          0.06346652  0.12693304 ...,  6.15625227  6.21971879\n",
      "   6.28318531]\n",
      " ..., \n",
      " [ 0.          0.06346652  0.12693304 ...,  6.15625227  6.21971879\n",
      "   6.28318531]\n",
      " [ 0.          0.06346652  0.12693304 ...,  6.15625227  6.21971879\n",
      "   6.28318531]\n",
      " [ 0.          0.06346652  0.12693304 ...,  6.15625227  6.21971879\n",
      "   6.28318531]]\n",
      "[[ 0.          0.          0.         ...,  0.          0.          0.        ]\n",
      " [ 0.06346652  0.06346652  0.06346652 ...,  0.06346652  0.06346652\n",
      "   0.06346652]\n",
      " [ 0.12693304  0.12693304  0.12693304 ...,  0.12693304  0.12693304\n",
      "   0.12693304]\n",
      " ..., \n",
      " [ 6.15625227  6.15625227  6.15625227 ...,  6.15625227  6.15625227\n",
      "   6.15625227]\n",
      " [ 6.21971879  6.21971879  6.21971879 ...,  6.21971879  6.21971879\n",
      "   6.21971879]\n",
      " [ 6.28318531  6.28318531  6.28318531 ...,  6.28318531  6.28318531\n",
      "   6.28318531]]\n"
     ]
    },
    {
     "data": {
      "image/png": "[encoded data removed]",
      "text/plain": [
       "<matplotlib.figure.Figure at 0x7f1cbe0>"
      ]
     },
     "metadata": {},
     "output_type": "display_data"
    }
   ],
   "source": [
    "def sinus2d(x, y):\n",
    "    return np.sin(x) + np.sin(y)\n",
    "xx, yy = np.meshgrid(np.linspace(0,2*np.pi,100), np.linspace(0,2*np.pi,100))\n",
    "print(xx)\n",
    "print(yy)\n",
    "z = sinus2d(xx, yy) # Create the image on this grid\n",
    "import matplotlib.pyplot as plt\n",
    "plt.imshow(z, origin='lower', interpolation='none')\n",
    "plt.show()"
   ]
  },
  {
   "cell_type": "code",
   "execution_count": 260,
   "metadata": {
    "collapsed": false
   },
   "outputs": [
    {
     "name": "stdout",
     "output_type": "stream",
     "text": [
      "[[ 0.   0.5  1. ]\n",
      " [ 0.   0.5  1. ]\n",
      " [ 0.   0.5  1. ]] [[ 0.   0.   0. ]\n",
      " [ 0.5  0.5  0.5]\n",
      " [ 1.   1.   1. ]]\n",
      "[[( 0. ,  0. ) ( 0.5,  0. ) ( 1. ,  0. )]\n",
      " [( 0. ,  0.5) ( 0.5,  0.5) ( 1. ,  0.5)]\n",
      " [( 0. ,  1. ) ( 0.5,  1. ) ( 1. ,  1. )]]\n"
     ]
    }
   ],
   "source": [
    "Z = np.zeros((3,3), [('x', float), ('y', float)])\n",
    "Z['x'], Z['y'] = np.meshgrid(np.linspace(0,1,3), np.linspace(0,1,3))\n",
    "print(Z['x'], Z['y'])\n",
    "print(Z)"
   ]
  },
  {
   "cell_type": "markdown",
   "metadata": {},
   "source": [
    "####  47. Given two arrays, X and Y, construct the Cauchy matrix C (Cij =1/(xi - yj))"
   ]
  },
  {
   "cell_type": "code",
   "execution_count": 262,
   "metadata": {
    "collapsed": false
   },
   "outputs": [
    {
     "name": "stdout",
     "output_type": "stream",
     "text": [
      "3638.16363712\n"
     ]
    }
   ],
   "source": [
    "X = np.arange(8)\n",
    "Y = X + 0.5\n",
    "C = 1.0 / np.subtract.outer(X,Y)\n",
    "print(np.linalg.det(C))"
   ]
  },
  {
   "cell_type": "code",
   "execution_count": 264,
   "metadata": {
    "collapsed": false
   },
   "outputs": [
    {
     "name": "stdout",
     "output_type": "stream",
     "text": [
      " det(a)\n",
      "\n",
      "Compute the determinant of an array.\n",
      "\n",
      "Parameters\n",
      "----------\n",
      "a : (..., M, M) array_like\n",
      "    Input array to compute determinants for.\n",
      "\n",
      "Returns\n",
      "-------\n",
      "det : (...) array_like\n",
      "    Determinant of `a`.\n",
      "\n",
      "See Also\n",
      "--------\n",
      "slogdet : Another way to representing the determinant, more suitable\n",
      "  for large matrices where underflow/overflow may occur.\n",
      "\n",
      "Notes\n",
      "-----\n",
      "\n",
      ".. versionadded:: 1.8.0\n",
      "\n",
      "Broadcasting rules apply, see the `numpy.linalg` documentation for\n",
      "details.\n",
      "\n",
      "The determinant is computed via LU factorization using the LAPACK\n",
      "routine z/dgetrf.\n",
      "\n",
      "Examples\n",
      "--------\n",
      "The determinant of a 2-D array [[a, b], [c, d]] is ad - bc:\n",
      "\n",
      ">>> a = np.array([[1, 2], [3, 4]])\n",
      ">>> np.linalg.det(a)\n",
      "-2.0\n",
      "\n",
      "Computing determinants for a stack of matrices:\n",
      "\n",
      ">>> a = np.array([ [[1, 2], [3, 4]], [[1, 2], [2, 1]], [[1, 3], [3, 1]] ])\n",
      ">>> a.shape\n",
      "(3, 2, 2)\n",
      ">>> np.linalg.det(a)\n",
      "array([-2., -3., -8.])\n"
     ]
    }
   ],
   "source": [
    "#np.info(np.subtract.outer)  # 두 입력들의 모든 경우의 수에 대해서 subtract를 먹인다\n",
    "np.info(np.linalg.det)"
   ]
  },
  {
   "cell_type": "markdown",
   "metadata": {},
   "source": [
    "#### 48. Print the minimum and maximum representable value for each numpy scalar type (★★☆)"
   ]
  },
  {
   "cell_type": "code",
   "execution_count": 265,
   "metadata": {
    "collapsed": false
   },
   "outputs": [
    {
     "name": "stdout",
     "output_type": "stream",
     "text": [
      "-128\n",
      "127\n",
      "-2147483648\n",
      "2147483647\n",
      "-9223372036854775808\n",
      "9223372036854775807\n",
      "-3.40282e+38\n",
      "3.40282e+38\n",
      "1.19209e-07\n",
      "-1.79769313486e+308\n",
      "1.79769313486e+308\n",
      "2.22044604925e-16\n"
     ]
    }
   ],
   "source": [
    "for dtype in [np.int8, np.int32, np.int64]:\n",
    "   print(np.iinfo(dtype).min)\n",
    "   print(np.iinfo(dtype).max)\n",
    "for dtype in [np.float32, np.float64]:\n",
    "   print(np.finfo(dtype).min)\n",
    "   print(np.finfo(dtype).max)\n",
    "   print(np.finfo(dtype).eps)"
   ]
  },
  {
   "cell_type": "code",
   "execution_count": 266,
   "metadata": {
    "collapsed": false
   },
   "outputs": [
    {
     "name": "stdout",
     "output_type": "stream",
     "text": [
      " iinfo()\n",
      "\n",
      "iinfo(type)\n",
      "\n",
      "Machine limits for integer types.\n",
      "\n",
      "Attributes\n",
      "----------\n",
      "bits : int\n",
      "    The number of bits occupied by the type.\n",
      "min : int\n",
      "    The smallest integer expressible by the type.\n",
      "max : int\n",
      "    The largest integer expressible by the type.\n",
      "\n",
      "Parameters\n",
      "----------\n",
      "int_type : integer type, dtype, or instance\n",
      "    The kind of integer data type to get information about.\n",
      "\n",
      "See Also\n",
      "--------\n",
      "finfo : The equivalent for floating point data types.\n",
      "\n",
      "Examples\n",
      "--------\n",
      "With types:\n",
      "\n",
      ">>> ii16 = np.iinfo(np.int16)\n",
      ">>> ii16.min\n",
      "-32768\n",
      ">>> ii16.max\n",
      "32767\n",
      ">>> ii32 = np.iinfo(np.int32)\n",
      ">>> ii32.min\n",
      "-2147483648\n",
      ">>> ii32.max\n",
      "2147483647\n",
      "\n",
      "With instances:\n",
      "\n",
      ">>> ii32 = np.iinfo(np.int32(10))\n",
      ">>> ii32.min\n",
      "-2147483648\n",
      ">>> ii32.max\n",
      "2147483647\n",
      "\n",
      "\n",
      "Methods:\n",
      "\n",
      "None\n",
      " finfo()\n",
      "\n",
      "finfo(dtype)\n",
      "\n",
      "Machine limits for floating point types.\n",
      "\n",
      "Attributes\n",
      "----------\n",
      "bits : int\n",
      "    The number of bits occupied by the type.\n",
      "eps : float\n",
      "    The smallest representable positive number such that\n",
      "    ``1.0 + eps != 1.0``.  Type of `eps` is an appropriate floating\n",
      "    point type.\n",
      "epsneg : floating point number of the appropriate type\n",
      "    The smallest representable positive number such that\n",
      "    ``1.0 - epsneg != 1.0``.\n",
      "iexp : int\n",
      "    The number of bits in the exponent portion of the floating point\n",
      "    representation.\n",
      "machar : MachAr\n",
      "    The object which calculated these parameters and holds more\n",
      "    detailed information.\n",
      "machep : int\n",
      "    The exponent that yields `eps`.\n",
      "max : floating point number of the appropriate type\n",
      "    The largest representable number.\n",
      "maxexp : int\n",
      "    The smallest positive power of the base (2) that causes overflow.\n",
      "min : floating point number of the appropriate type\n",
      "    The smallest representable number, typically ``-max``.\n",
      "minexp : int\n",
      "    The most negative power of the base (2) consistent with there\n",
      "    being no leading 0's in the mantissa.\n",
      "negep : int\n",
      "    The exponent that yields `epsneg`.\n",
      "nexp : int\n",
      "    The number of bits in the exponent including its sign and bias.\n",
      "nmant : int\n",
      "    The number of bits in the mantissa.\n",
      "precision : int\n",
      "    The approximate number of decimal digits to which this kind of\n",
      "    float is precise.\n",
      "resolution : floating point number of the appropriate type\n",
      "    The approximate decimal resolution of this type, i.e.,\n",
      "    ``10**-precision``.\n",
      "tiny : float\n",
      "    The smallest positive usable number.  Type of `tiny` is an\n",
      "    appropriate floating point type.\n",
      "\n",
      "Parameters\n",
      "----------\n",
      "dtype : float, dtype, or instance\n",
      "    Kind of floating point data-type about which to get information.\n",
      "\n",
      "See Also\n",
      "--------\n",
      "MachAr : The implementation of the tests that produce this information.\n",
      "iinfo : The equivalent for integer data types.\n",
      "\n",
      "Notes\n",
      "-----\n",
      "For developers of NumPy: do not instantiate this at the module level.\n",
      "The initial calculation of these parameters is expensive and negatively\n",
      "impacts import times.  These objects are cached, so calling ``finfo()``\n",
      "repeatedly inside your functions is not a problem.\n",
      "\n",
      "\n",
      "Methods:\n",
      "\n",
      "None\n"
     ]
    }
   ],
   "source": [
    "print(np.info(np.iinfo))  # 타입의 최소 최대값 of 정수\n",
    "print(np.info(np.finfo))  # 타입의 최소 최대값 of 실수"
   ]
  },
  {
   "cell_type": "markdown",
   "metadata": {},
   "source": [
    "#### 49. How to print all the values of an array? (★★☆)"
   ]
  },
  {
   "cell_type": "code",
   "execution_count": 268,
   "metadata": {
    "collapsed": false
   },
   "outputs": [
    {
     "name": "stdout",
     "output_type": "stream",
     "text": [
      "[[ 0.  0.  0.  0.  0.  0.  0.  0.  0.  0.  0.  0.  0.  0.  0.  0.]\n",
      " [ 0.  0.  0.  0.  0.  0.  0.  0.  0.  0.  0.  0.  0.  0.  0.  0.]\n",
      " [ 0.  0.  0.  0.  0.  0.  0.  0.  0.  0.  0.  0.  0.  0.  0.  0.]\n",
      " [ 0.  0.  0.  0.  0.  0.  0.  0.  0.  0.  0.  0.  0.  0.  0.  0.]\n",
      " [ 0.  0.  0.  0.  0.  0.  0.  0.  0.  0.  0.  0.  0.  0.  0.  0.]\n",
      " [ 0.  0.  0.  0.  0.  0.  0.  0.  0.  0.  0.  0.  0.  0.  0.  0.]\n",
      " [ 0.  0.  0.  0.  0.  0.  0.  0.  0.  0.  0.  0.  0.  0.  0.  0.]\n",
      " [ 0.  0.  0.  0.  0.  0.  0.  0.  0.  0.  0.  0.  0.  0.  0.  0.]\n",
      " [ 0.  0.  0.  0.  0.  0.  0.  0.  0.  0.  0.  0.  0.  0.  0.  0.]\n",
      " [ 0.  0.  0.  0.  0.  0.  0.  0.  0.  0.  0.  0.  0.  0.  0.  0.]\n",
      " [ 0.  0.  0.  0.  0.  0.  0.  0.  0.  0.  0.  0.  0.  0.  0.  0.]\n",
      " [ 0.  0.  0.  0.  0.  0.  0.  0.  0.  0.  0.  0.  0.  0.  0.  0.]\n",
      " [ 0.  0.  0.  0.  0.  0.  0.  0.  0.  0.  0.  0.  0.  0.  0.  0.]\n",
      " [ 0.  0.  0.  0.  0.  0.  0.  0.  0.  0.  0.  0.  0.  0.  0.  0.]\n",
      " [ 0.  0.  0.  0.  0.  0.  0.  0.  0.  0.  0.  0.  0.  0.  0.  0.]\n",
      " [ 0.  0.  0.  0.  0.  0.  0.  0.  0.  0.  0.  0.  0.  0.  0.  0.]]\n"
     ]
    }
   ],
   "source": [
    "# 프린트할때 중간 부분 잘리는걸 막아주는 방법이다\n",
    "np.set_printoptions(threshold=np.nan)\n",
    "Z = np.zeros((16,16))\n",
    "print(Z)"
   ]
  },
  {
   "cell_type": "code",
   "execution_count": 269,
   "metadata": {
    "collapsed": false
   },
   "outputs": [
    {
     "name": "stdout",
     "output_type": "stream",
     "text": [
      " set_printoptions(precision=None, threshold=None, edgeitems=None,\n",
      "                  linewidth=None, suppress=None, nanstr=None, infstr=None,\n",
      "                  formatter=None)\n",
      "\n",
      "Set printing options.\n",
      "\n",
      "These options determine the way floating point numbers, arrays and\n",
      "other NumPy objects are displayed.\n",
      "\n",
      "Parameters\n",
      "----------\n",
      "precision : int, optional\n",
      "    Number of digits of precision for floating point output (default 8).\n",
      "threshold : int, optional\n",
      "    Total number of array elements which trigger summarization\n",
      "    rather than full repr (default 1000).\n",
      "edgeitems : int, optional\n",
      "    Number of array items in summary at beginning and end of\n",
      "    each dimension (default 3).\n",
      "linewidth : int, optional\n",
      "    The number of characters per line for the purpose of inserting\n",
      "    line breaks (default 75).\n",
      "suppress : bool, optional\n",
      "    Whether or not suppress printing of small floating point values\n",
      "    using scientific notation (default False).\n",
      "nanstr : str, optional\n",
      "    String representation of floating point not-a-number (default nan).\n",
      "infstr : str, optional\n",
      "    String representation of floating point infinity (default inf).\n",
      "formatter : dict of callables, optional\n",
      "    If not None, the keys should indicate the type(s) that the respective\n",
      "    formatting function applies to.  Callables should return a string.\n",
      "    Types that are not specified (by their corresponding keys) are handled\n",
      "    by the default formatters.  Individual types for which a formatter\n",
      "    can be set are::\n",
      "\n",
      "        - 'bool'\n",
      "        - 'int'\n",
      "        - 'timedelta' : a `numpy.timedelta64`\n",
      "        - 'datetime' : a `numpy.datetime64`\n",
      "        - 'float'\n",
      "        - 'longfloat' : 128-bit floats\n",
      "        - 'complexfloat'\n",
      "        - 'longcomplexfloat' : composed of two 128-bit floats\n",
      "        - 'numpy_str' : types `numpy.string_` and `numpy.unicode_`\n",
      "        - 'str' : all other strings\n",
      "\n",
      "    Other keys that can be used to set a group of types at once are::\n",
      "\n",
      "        - 'all' : sets all types\n",
      "        - 'int_kind' : sets 'int'\n",
      "        - 'float_kind' : sets 'float' and 'longfloat'\n",
      "        - 'complex_kind' : sets 'complexfloat' and 'longcomplexfloat'\n",
      "        - 'str_kind' : sets 'str' and 'numpystr'\n",
      "\n",
      "See Also\n",
      "--------\n",
      "get_printoptions, set_string_function, array2string\n",
      "\n",
      "Notes\n",
      "-----\n",
      "`formatter` is always reset with a call to `set_printoptions`.\n",
      "\n",
      "Examples\n",
      "--------\n",
      "Floating point precision can be set:\n",
      "\n",
      ">>> np.set_printoptions(precision=4)\n",
      ">>> print(np.array([1.123456789]))\n",
      "[ 1.1235]\n",
      "\n",
      "Long arrays can be summarised:\n",
      "\n",
      ">>> np.set_printoptions(threshold=5)\n",
      ">>> print(np.arange(10))\n",
      "[0 1 2 ..., 7 8 9]\n",
      "\n",
      "Small results can be suppressed:\n",
      "\n",
      ">>> eps = np.finfo(float).eps\n",
      ">>> x = np.arange(4.)\n",
      ">>> x**2 - (x + eps)**2\n",
      "array([ -4.9304e-32,  -4.4409e-16,   0.0000e+00,   0.0000e+00])\n",
      ">>> np.set_printoptions(suppress=True)\n",
      ">>> x**2 - (x + eps)**2\n",
      "array([-0., -0.,  0.,  0.])\n",
      "\n",
      "A custom formatter can be used to display array elements as desired:\n",
      "\n",
      ">>> np.set_printoptions(formatter={'all':lambda x: 'int: '+str(-x)})\n",
      ">>> x = np.arange(3)\n",
      ">>> x\n",
      "array([int: 0, int: -1, int: -2])\n",
      ">>> np.set_printoptions()  # formatter gets reset\n",
      ">>> x\n",
      "array([0, 1, 2])\n",
      "\n",
      "To put back the default options, you can use:\n",
      "\n",
      ">>> np.set_printoptions(edgeitems=3,infstr='inf',\n",
      "... linewidth=75, nanstr='nan', precision=8,\n",
      "... suppress=False, threshold=1000, formatter=None)\n"
     ]
    }
   ],
   "source": [
    "np.info(np.set_printoptions)"
   ]
  },
  {
   "cell_type": "markdown",
   "metadata": {},
   "source": [
    "#### 50. How to find the closest value (to a given scalar) in an array? (★★☆)"
   ]
  },
  {
   "cell_type": "code",
   "execution_count": 271,
   "metadata": {
    "collapsed": false
   },
   "outputs": [
    {
     "name": "stdout",
     "output_type": "stream",
     "text": [
      "17\n"
     ]
    }
   ],
   "source": [
    "Z = np.arange(100)\n",
    "v = np.random.uniform(0,100)\n",
    "index = (np.abs(Z-v)).argmin()\n",
    "print(Z[index])"
   ]
  },
  {
   "cell_type": "markdown",
   "metadata": {},
   "source": [
    "#### 51. Create a structured array representing a position (x,y) and a color (r,g,b) (★★☆)\n",
    "- 새로운 타입을 선언한 것과 같다"
   ]
  },
  {
   "cell_type": "code",
   "execution_count": 273,
   "metadata": {
    "collapsed": false
   },
   "outputs": [
    {
     "name": "stdout",
     "output_type": "stream",
     "text": [
      "[(( 0.,  0.), ( 0.,  0.,  0.)) (( 0.,  0.), ( 0.,  0.,  0.))\n",
      " (( 0.,  0.), ( 0.,  0.,  0.)) (( 0.,  0.), ( 0.,  0.,  0.))\n",
      " (( 0.,  0.), ( 0.,  0.,  0.)) (( 0.,  0.), ( 0.,  0.,  0.))\n",
      " (( 0.,  0.), ( 0.,  0.,  0.)) (( 0.,  0.), ( 0.,  0.,  0.))\n",
      " (( 0.,  0.), ( 0.,  0.,  0.)) (( 0.,  0.), ( 0.,  0.,  0.))]\n",
      "[( 0.,  0.) ( 0.,  0.) ( 0.,  0.) ( 0.,  0.) ( 0.,  0.) ( 0.,  0.)\n",
      " ( 0.,  0.) ( 0.,  0.) ( 0.,  0.) ( 0.,  0.)]\n"
     ]
    }
   ],
   "source": [
    "Z = np.zeros(10, [ ('position', [ ('x', float, 1),\n",
    "                                  ('y', float, 1)]),\n",
    "                   ('color',    [ ('r', float, 1),\n",
    "                                  ('g', float, 1),\n",
    "                                  ('b', float, 1)])])\n",
    "print(Z)\n",
    "print(Z['position'])"
   ]
  },
  {
   "cell_type": "markdown",
   "metadata": {},
   "source": [
    "#### 52. Consider a random vector with shape (100,2) representing coordinates, find point by point distances (★★☆)\n",
    "1. 좌표 100개를 만든다\n",
    "2. 좌표의 순서대로 각 좌표간의 거리를 계산한다"
   ]
  },
  {
   "cell_type": "code",
   "execution_count": 277,
   "metadata": {
    "collapsed": false
   },
   "outputs": [
    {
     "name": "stdout",
     "output_type": "stream",
     "text": [
      "[[ 0.          0.50725206  0.06858181  0.69089187  0.58403399  0.26632188\n",
      "   0.34684971  0.0905084   0.51758454  0.41656883]\n",
      " [ 0.50725206  0.          0.43970648  0.19150096  0.42980635  0.24520001\n",
      "   0.8477577   0.45399228  0.61747526  0.71521765]\n",
      " [ 0.06858181  0.43970648  0.          0.62249738  0.54758423  0.20145622\n",
      "   0.41521772  0.05868929  0.49232669  0.44502122]\n",
      " [ 0.69089187  0.19150096  0.62249738  0.          0.55706007  0.43450577\n",
      "   1.03491221  0.62947258  0.69785092  0.901162  ]\n",
      " [ 0.58403399  0.42980635  0.54758423  0.55706007  0.          0.41103641\n",
      "   0.81503336  0.59939599  0.95370742  0.48738839]\n",
      " [ 0.26632188  0.24520001  0.20145622  0.43450577  0.41103641  0.\n",
      "   0.60275751  0.22962445  0.54464604  0.50946708]\n",
      " [ 0.34684971  0.8477577   0.41521772  1.03491221  0.81503336  0.60275751\n",
      "   0.          0.42382717  0.75396922  0.41305983]\n",
      " [ 0.0905084   0.45399228  0.05868929  0.62947258  0.59939599  0.22962445\n",
      "   0.42382717  0.          0.4367563   0.49748074]\n",
      " [ 0.51758454  0.61747526  0.49232669  0.69785092  0.95370742  0.54464604\n",
      "   0.75396922  0.4367563   0.          0.93330981]\n",
      " [ 0.41656883  0.71521765  0.44502122  0.901162    0.48738839  0.50946708\n",
      "   0.41305983  0.49748074  0.93330981  0.        ]]\n"
     ]
    }
   ],
   "source": [
    "Z = np.random.random((10,2))\n",
    "X, Y = np.atleast_2d(Z[:,0], Z[:,1])\n",
    "D = np.sqrt((X-X.T)**2 + (Y-Y.T)**2)\n",
    "print(D)"
   ]
  },
  {
   "cell_type": "code",
   "execution_count": 278,
   "metadata": {
    "collapsed": false
   },
   "outputs": [
    {
     "name": "stdout",
     "output_type": "stream",
     "text": [
      "[[ 0.          0.76131235  0.47396526  0.79096451  0.50697031  0.18074788\n",
      "   0.47932406  0.58459137  0.45404777  0.37560478]\n",
      " [ 0.76131235  0.          0.30964876  0.40862714  0.2953592   0.83052228\n",
      "   0.28206329  0.98842309  0.31158253  0.65558939]\n",
      " [ 0.47396526  0.30964876  0.          0.53709187  0.21396073  0.57974625\n",
      "   0.09681146  0.8403184   0.13114311  0.49657443]\n",
      " [ 0.79096451  0.40862714  0.53709187  0.          0.33755435  0.76725109\n",
      "   0.44451708  0.74126506  0.42777852  0.49691239]\n",
      " [ 0.50697031  0.2953592   0.21396073  0.33755435  0.          0.54552642\n",
      "   0.11718341  0.70199486  0.09095715  0.36246748]\n",
      " [ 0.18074788  0.83052228  0.57974625  0.76725109  0.54552642  0.\n",
      "   0.55625823  0.4102666   0.52061349  0.28464316]\n",
      " [ 0.47932406  0.28206329  0.09681146  0.44451708  0.11718341  0.55625823\n",
      "   0.          0.77492158  0.04398601  0.42937829]\n",
      " [ 0.58459137  0.98842309  0.8403184   0.74126506  0.70199486  0.4102666\n",
      "   0.77492158  0.          0.73104137  0.34557136]\n",
      " [ 0.45404777  0.31158253  0.13114311  0.42777852  0.09095715  0.52061349\n",
      "   0.04398601  0.73104137  0.          0.38553006]\n",
      " [ 0.37560478  0.65558939  0.49657443  0.49691239  0.36246748  0.28464316\n",
      "   0.42937829  0.34557136  0.38553006  0.        ]]\n"
     ]
    }
   ],
   "source": [
    "# 훨씬 빠른 방법\n",
    "# Much faster with scipy\n",
    "import scipy\n",
    "# Thanks Gavin Heverly-Coulson (#issue 1)\n",
    "import scipy.spatial\n",
    "\n",
    "Z = np.random.random((10,2))\n",
    "D = scipy.spatial.distance.cdist(Z,Z)\n",
    "print(D)"
   ]
  },
  {
   "cell_type": "code",
   "execution_count": 280,
   "metadata": {
    "collapsed": false
   },
   "outputs": [
    {
     "name": "stdout",
     "output_type": "stream",
     "text": [
      " atleast_2d(*arys)\n",
      "\n",
      "View inputs as arrays with at least two dimensions.\n",
      "\n",
      "Parameters\n",
      "----------\n",
      "arys1, arys2, ... : array_like\n",
      "    One or more array-like sequences.  Non-array inputs are converted\n",
      "    to arrays.  Arrays that already have two or more dimensions are\n",
      "    preserved.\n",
      "\n",
      "Returns\n",
      "-------\n",
      "res, res2, ... : ndarray\n",
      "    An array, or list of arrays, each with ``a.ndim >= 2``.\n",
      "    Copies are avoided where possible, and views with two or more\n",
      "    dimensions are returned.\n",
      "\n",
      "See Also\n",
      "--------\n",
      "atleast_1d, atleast_3d\n",
      "\n",
      "Examples\n",
      "--------\n",
      ">>> np.atleast_2d(3.0)\n",
      "array([[ 3.]])\n",
      "\n",
      ">>> x = np.arange(3.0)\n",
      ">>> np.atleast_2d(x)\n",
      "array([[ 0.,  1.,  2.]])\n",
      ">>> np.atleast_2d(x).base is x\n",
      "True\n",
      "\n",
      ">>> np.atleast_2d(1, [1, 2], [[1, 2]])\n",
      "[array([[1]]), array([[1, 2]]), array([[1, 2]])]\n"
     ]
    }
   ],
   "source": [
    "np.info(np.atleast_2d)\n"
   ]
  },
  {
   "cell_type": "markdown",
   "metadata": {},
   "source": [
    "#### 53. How to convert a float (32 bits) array into an integer (32 bits) in place?"
   ]
  },
  {
   "cell_type": "code",
   "execution_count": 287,
   "metadata": {
    "collapsed": false
   },
   "outputs": [
    {
     "name": "stdout",
     "output_type": "stream",
     "text": [
      "[0 1 2 3 4 5 6 7 8 9]\n",
      "[0 1 2 3 4 5 6 7 8 9]\n",
      "[ 0.  1.  2.  3.  4.  5.  6.  7.  8.  9.]\n",
      "[ 0.  1.  2.  3.  4.  5.  6.  7.  8.  9.]\n"
     ]
    }
   ],
   "source": [
    "z = np.arange(10, dtype=np.int32)  # copy의 개념은 못잡았음\n",
    "print(z)\n",
    "z.astype(np.float32, copy=False)\n",
    "print(z)\n",
    "k = z.astype(np.float32, copy=True)\n",
    "print(k)\n",
    "j = z.astype(np.float32, copy=False)\n",
    "print(j)\n"
   ]
  },
  {
   "cell_type": "markdown",
   "metadata": {},
   "source": [
    "#### 54. How to read the following file? (★★☆)"
   ]
  },
  {
   "cell_type": "markdown",
   "metadata": {},
   "source": [
    "```\n",
    "1, 2, 3, 4, 5\n",
    "6,  ,  , 7, 8\n",
    " ,  , 9,10,11\n",
    "```"
   ]
  },
  {
   "cell_type": "code",
   "execution_count": 290,
   "metadata": {
    "collapsed": false
   },
   "outputs": [
    {
     "ename": "TypeError",
     "evalue": "Can't convert 'bytes' object to str implicitly",
     "output_type": "error",
     "traceback": [
      "\u001b[0;31m---------------------------------------------------------------------------\u001b[0m",
      "\u001b[0;31mTypeError\u001b[0m                                 Traceback (most recent call last)",
      "\u001b[0;32m<ipython-input-290-234023c5571a>\u001b[0m in \u001b[0;36m<module>\u001b[0;34m()\u001b[0m\n\u001b[1;32m      5\u001b[0m                 \u001b[1;36m6\u001b[0m\u001b[1;33m,\u001b[0m  \u001b[1;33m,\u001b[0m  \u001b[1;33m,\u001b[0m \u001b[1;36m7\u001b[0m\u001b[1;33m,\u001b[0m \u001b[1;36m8\u001b[0m\u001b[0;31m\\\u001b[0m\u001b[0mn\u001b[0m\u001b[1;33m\u001b[0m\u001b[0m\n\u001b[1;32m      6\u001b[0m                  ,  , 9,10,11\\n\"\"\")\n\u001b[0;32m----> 7\u001b[0;31m \u001b[0mZ\u001b[0m \u001b[1;33m=\u001b[0m \u001b[0mnp\u001b[0m\u001b[1;33m.\u001b[0m\u001b[0mgenfromtxt\u001b[0m\u001b[1;33m(\u001b[0m\u001b[0ms\u001b[0m\u001b[1;33m,\u001b[0m \u001b[0mdelimiter\u001b[0m\u001b[1;33m=\u001b[0m\u001b[1;34m\",\"\u001b[0m\u001b[1;33m,\u001b[0m \u001b[0mdtype\u001b[0m\u001b[1;33m=\u001b[0m\u001b[0mnp\u001b[0m\u001b[1;33m.\u001b[0m\u001b[0mint\u001b[0m\u001b[1;33m)\u001b[0m\u001b[1;33m\u001b[0m\u001b[0m\n\u001b[0m\u001b[1;32m      8\u001b[0m \u001b[0mprint\u001b[0m\u001b[1;33m(\u001b[0m\u001b[0mZ\u001b[0m\u001b[1;33m)\u001b[0m\u001b[1;33m\u001b[0m\u001b[0m\n",
      "\u001b[0;32mC:\\Program Files\\Anaconda3\\lib\\site-packages\\numpy\\lib\\npyio.py\u001b[0m in \u001b[0;36mgenfromtxt\u001b[0;34m(fname, dtype, comments, delimiter, skip_header, skip_footer, converters, missing_values, filling_values, usecols, names, excludelist, deletechars, replace_space, autostrip, case_sensitive, defaultfmt, unpack, usemask, loose, invalid_raise, max_rows)\u001b[0m\n\u001b[1;32m   1539\u001b[0m                     first_line = (\n\u001b[1;32m   1540\u001b[0m                         asbytes('').join(first_line.split(comments)[1:]))\n\u001b[0;32m-> 1541\u001b[0;31m             \u001b[0mfirst_values\u001b[0m \u001b[1;33m=\u001b[0m \u001b[0msplit_line\u001b[0m\u001b[1;33m(\u001b[0m\u001b[0mfirst_line\u001b[0m\u001b[1;33m)\u001b[0m\u001b[1;33m\u001b[0m\u001b[0m\n\u001b[0m\u001b[1;32m   1542\u001b[0m     \u001b[1;32mexcept\u001b[0m \u001b[0mStopIteration\u001b[0m\u001b[1;33m:\u001b[0m\u001b[1;33m\u001b[0m\u001b[0m\n\u001b[1;32m   1543\u001b[0m         \u001b[1;31m# return an empty array if the datafile is empty\u001b[0m\u001b[1;33m\u001b[0m\u001b[1;33m\u001b[0m\u001b[0m\n",
      "\u001b[0;32mC:\\Program Files\\Anaconda3\\lib\\site-packages\\numpy\\lib\\_iotools.py\u001b[0m in \u001b[0;36m_delimited_splitter\u001b[0;34m(self, line)\u001b[0m\n\u001b[1;32m    217\u001b[0m     \u001b[1;32mdef\u001b[0m \u001b[0m_delimited_splitter\u001b[0m\u001b[1;33m(\u001b[0m\u001b[0mself\u001b[0m\u001b[1;33m,\u001b[0m \u001b[0mline\u001b[0m\u001b[1;33m)\u001b[0m\u001b[1;33m:\u001b[0m\u001b[1;33m\u001b[0m\u001b[0m\n\u001b[1;32m    218\u001b[0m         \u001b[1;32mif\u001b[0m \u001b[0mself\u001b[0m\u001b[1;33m.\u001b[0m\u001b[0mcomments\u001b[0m \u001b[1;32mis\u001b[0m \u001b[1;32mnot\u001b[0m \u001b[1;32mNone\u001b[0m\u001b[1;33m:\u001b[0m\u001b[1;33m\u001b[0m\u001b[0m\n\u001b[0;32m--> 219\u001b[0;31m             \u001b[0mline\u001b[0m \u001b[1;33m=\u001b[0m \u001b[0mline\u001b[0m\u001b[1;33m.\u001b[0m\u001b[0msplit\u001b[0m\u001b[1;33m(\u001b[0m\u001b[0mself\u001b[0m\u001b[1;33m.\u001b[0m\u001b[0mcomments\u001b[0m\u001b[1;33m)\u001b[0m\u001b[1;33m[\u001b[0m\u001b[1;36m0\u001b[0m\u001b[1;33m]\u001b[0m\u001b[1;33m\u001b[0m\u001b[0m\n\u001b[0m\u001b[1;32m    220\u001b[0m         \u001b[0mline\u001b[0m \u001b[1;33m=\u001b[0m \u001b[0mline\u001b[0m\u001b[1;33m.\u001b[0m\u001b[0mstrip\u001b[0m\u001b[1;33m(\u001b[0m\u001b[0masbytes\u001b[0m\u001b[1;33m(\u001b[0m\u001b[1;34m\" \\r\\n\"\u001b[0m\u001b[1;33m)\u001b[0m\u001b[1;33m)\u001b[0m\u001b[1;33m\u001b[0m\u001b[0m\n\u001b[1;32m    221\u001b[0m         \u001b[1;32mif\u001b[0m \u001b[1;32mnot\u001b[0m \u001b[0mline\u001b[0m\u001b[1;33m:\u001b[0m\u001b[1;33m\u001b[0m\u001b[0m\n",
      "\u001b[0;31mTypeError\u001b[0m: Can't convert 'bytes' object to str implicitly"
     ]
    }
   ],
   "source": [
    "from io import StringIO\n",
    "\n",
    "# Fake file \n",
    "s = StringIO(\"\"\"1, 2, 3, 4, 5\\n\n",
    "                6,  ,  , 7, 8\\n\n",
    "                 ,  , 9,10,11\\n\"\"\")\n",
    "Z = np.genfromtxt(s, delimiter=\",\", dtype=np.int)\n",
    "print(Z)"
   ]
  },
  {
   "cell_type": "code",
   "execution_count": 291,
   "metadata": {
    "collapsed": false
   },
   "outputs": [
    {
     "name": "stdout",
     "output_type": "stream",
     "text": [
      " genfromtxt(fname, dtype=<class 'float'>, comments='#', delimiter=None,\n",
      "            skip_header=0, skip_footer=0, converters=None,\n",
      "            missing_values=None, filling_values=None, usecols=None,\n",
      "            names=None, excludelist=None, deletechars=None, replace_space='_',\n",
      "            autostrip=False, case_sensitive=True, defaultfmt='f%i',\n",
      "            unpack=None, usemask=False, loose=True, invalid_raise=True,\n",
      "            max_rows=None)\n",
      "\n",
      "Load data from a text file, with missing values handled as specified.\n",
      "\n",
      "Each line past the first `skip_header` lines is split at the `delimiter`\n",
      "character, and characters following the `comments` character are discarded.\n",
      "\n",
      "Parameters\n",
      "----------\n",
      "fname : file, str, pathlib.Path, list of str, generator\n",
      "    File, filename, list, or generator to read.  If the filename\n",
      "    extension is `.gz` or `.bz2`, the file is first decompressed. Note\n",
      "    that generators must return byte strings in Python 3k.  The strings\n",
      "    in a list or produced by a generator are treated as lines.\n",
      "dtype : dtype, optional\n",
      "    Data type of the resulting array.\n",
      "    If None, the dtypes will be determined by the contents of each\n",
      "    column, individually.\n",
      "comments : str, optional\n",
      "    The character used to indicate the start of a comment.\n",
      "    All the characters occurring on a line after a comment are discarded\n",
      "delimiter : str, int, or sequence, optional\n",
      "    The string used to separate values.  By default, any consecutive\n",
      "    whitespaces act as delimiter.  An integer or sequence of integers\n",
      "    can also be provided as width(s) of each field.\n",
      "skiprows : int, optional\n",
      "    `skiprows` was removed in numpy 1.10. Please use `skip_header` instead.\n",
      "skip_header : int, optional\n",
      "    The number of lines to skip at the beginning of the file.\n",
      "skip_footer : int, optional\n",
      "    The number of lines to skip at the end of the file.\n",
      "converters : variable, optional\n",
      "    The set of functions that convert the data of a column to a value.\n",
      "    The converters can also be used to provide a default value\n",
      "    for missing data: ``converters = {3: lambda s: float(s or 0)}``.\n",
      "missing : variable, optional\n",
      "    `missing` was removed in numpy 1.10. Please use `missing_values`\n",
      "    instead.\n",
      "missing_values : variable, optional\n",
      "    The set of strings corresponding to missing data.\n",
      "filling_values : variable, optional\n",
      "    The set of values to be used as default when the data are missing.\n",
      "usecols : sequence, optional\n",
      "    Which columns to read, with 0 being the first.  For example,\n",
      "    ``usecols = (1, 4, 5)`` will extract the 2nd, 5th and 6th columns.\n",
      "names : {None, True, str, sequence}, optional\n",
      "    If `names` is True, the field names are read from the first valid line\n",
      "    after the first `skip_header` lines.\n",
      "    If `names` is a sequence or a single-string of comma-separated names,\n",
      "    the names will be used to define the field names in a structured dtype.\n",
      "    If `names` is None, the names of the dtype fields will be used, if any.\n",
      "excludelist : sequence, optional\n",
      "    A list of names to exclude. This list is appended to the default list\n",
      "    ['return','file','print']. Excluded names are appended an underscore:\n",
      "    for example, `file` would become `file_`.\n",
      "deletechars : str, optional\n",
      "    A string combining invalid characters that must be deleted from the\n",
      "    names.\n",
      "defaultfmt : str, optional\n",
      "    A format used to define default field names, such as \"f%i\" or \"f_%02i\".\n",
      "autostrip : bool, optional\n",
      "    Whether to automatically strip white spaces from the variables.\n",
      "replace_space : char, optional\n",
      "    Character(s) used in replacement of white spaces in the variables\n",
      "    names. By default, use a '_'.\n",
      "case_sensitive : {True, False, 'upper', 'lower'}, optional\n",
      "    If True, field names are case sensitive.\n",
      "    If False or 'upper', field names are converted to upper case.\n",
      "    If 'lower', field names are converted to lower case.\n",
      "unpack : bool, optional\n",
      "    If True, the returned array is transposed, so that arguments may be\n",
      "    unpacked using ``x, y, z = loadtxt(...)``\n",
      "usemask : bool, optional\n",
      "    If True, return a masked array.\n",
      "    If False, return a regular array.\n",
      "loose : bool, optional\n",
      "    If True, do not raise errors for invalid values.\n",
      "invalid_raise : bool, optional\n",
      "    If True, an exception is raised if an inconsistency is detected in the\n",
      "    number of columns.\n",
      "    If False, a warning is emitted and the offending lines are skipped.\n",
      "max_rows : int,  optional\n",
      "    The maximum number of rows to read. Must not be used with skip_footer\n",
      "    at the same time.  If given, the value must be at least 1. Default is\n",
      "    to read the entire file.\n",
      "\n",
      "    .. versionadded:: 1.10.0\n",
      "\n",
      "Returns\n",
      "-------\n",
      "out : ndarray\n",
      "    Data read from the text file. If `usemask` is True, this is a\n",
      "    masked array.\n",
      "\n",
      "See Also\n",
      "--------\n",
      "numpy.loadtxt : equivalent function when no data is missing.\n",
      "\n",
      "Notes\n",
      "-----\n",
      "* When spaces are used as delimiters, or when no delimiter has been given\n",
      "  as input, there should not be any missing data between two fields.\n",
      "* When the variables are named (either by a flexible dtype or with `names`,\n",
      "  there must not be any header in the file (else a ValueError\n",
      "  exception is raised).\n",
      "* Individual values are not stripped of spaces by default.\n",
      "  When using a custom converter, make sure the function does remove spaces.\n",
      "\n",
      "References\n",
      "----------\n",
      ".. [1] NumPy User Guide, section `I/O with NumPy\n",
      "       <http://docs.scipy.org/doc/numpy/user/basics.io.genfromtxt.html>`_.\n",
      "\n",
      "Examples\n",
      "---------\n",
      ">>> from io import StringIO\n",
      ">>> import numpy as np\n",
      "\n",
      "Comma delimited file with mixed dtype\n",
      "\n",
      ">>> s = StringIO(\"1,1.3,abcde\")\n",
      ">>> data = np.genfromtxt(s, dtype=[('myint','i8'),('myfloat','f8'),\n",
      "... ('mystring','S5')], delimiter=\",\")\n",
      ">>> data\n",
      "array((1, 1.3, 'abcde'),\n",
      "      dtype=[('myint', '<i8'), ('myfloat', '<f8'), ('mystring', '|S5')])\n",
      "\n",
      "Using dtype = None\n",
      "\n",
      ">>> s.seek(0) # needed for StringIO example only\n",
      ">>> data = np.genfromtxt(s, dtype=None,\n",
      "... names = ['myint','myfloat','mystring'], delimiter=\",\")\n",
      ">>> data\n",
      "array((1, 1.3, 'abcde'),\n",
      "      dtype=[('myint', '<i8'), ('myfloat', '<f8'), ('mystring', '|S5')])\n",
      "\n",
      "Specifying dtype and names\n",
      "\n",
      ">>> s.seek(0)\n",
      ">>> data = np.genfromtxt(s, dtype=\"i8,f8,S5\",\n",
      "... names=['myint','myfloat','mystring'], delimiter=\",\")\n",
      ">>> data\n",
      "array((1, 1.3, 'abcde'),\n",
      "      dtype=[('myint', '<i8'), ('myfloat', '<f8'), ('mystring', '|S5')])\n",
      "\n",
      "An example with fixed-width columns\n",
      "\n",
      ">>> s = StringIO(\"11.3abcde\")\n",
      ">>> data = np.genfromtxt(s, dtype=None, names=['intvar','fltvar','strvar'],\n",
      "...     delimiter=[1,3,5])\n",
      ">>> data\n",
      "array((1, 1.3, 'abcde'),\n",
      "      dtype=[('intvar', '<i8'), ('fltvar', '<f8'), ('strvar', '|S5')])\n"
     ]
    }
   ],
   "source": [
    "np.info(np.genfromtxt)"
   ]
  },
  {
   "cell_type": "markdown",
   "metadata": {},
   "source": [
    "#### 55. What is the equivalent of enumerate for numpy arrays? (★★☆)"
   ]
  },
  {
   "cell_type": "code",
   "execution_count": 3,
   "metadata": {
    "collapsed": false
   },
   "outputs": [
    {
     "name": "stdout",
     "output_type": "stream",
     "text": [
      "[[0 1 2]\n",
      " [3 4 5]\n",
      " [6 7 8]]\n",
      "(0, 0) 0\n",
      "(0, 1) 1\n",
      "(0, 2) 2\n",
      "(1, 0) 3\n",
      "(1, 1) 4\n",
      "(1, 2) 5\n",
      "(2, 0) 6\n",
      "(2, 1) 7\n",
      "(2, 2) 8\n",
      "(0, 0) 0\n",
      "(0, 1) 1\n",
      "(0, 2) 2\n",
      "(1, 0) 3\n",
      "(1, 1) 4\n",
      "(1, 2) 5\n",
      "(2, 0) 6\n",
      "(2, 1) 7\n",
      "(2, 2) 8\n"
     ]
    }
   ],
   "source": [
    "Z = np.arange(9).reshape(3,3)\n",
    "print(Z)\n",
    "\n",
    "for index, value in np.ndenumerate(Z):\n",
    "    print(index, value)\n",
    "for index in np.ndindex(Z.shape):\n",
    "    print(index, Z[index])"
   ]
  },
  {
   "cell_type": "code",
   "execution_count": 17,
   "metadata": {
    "collapsed": false
   },
   "outputs": [],
   "source": [
    "#좌표값과 그 좌표의 실제값을 리턴\n",
    "np.ndenumerate?"
   ]
  },
  {
   "cell_type": "code",
   "execution_count": 18,
   "metadata": {
    "collapsed": false
   },
   "outputs": [],
   "source": [
    "#좌표값을 리턴\n",
    "np.ndindex?"
   ]
  },
  {
   "cell_type": "markdown",
   "metadata": {},
   "source": [
    "#### 56. Generate a generic 2D Gaussian-like array (★★☆)"
   ]
  },
  {
   "cell_type": "code",
   "execution_count": 19,
   "metadata": {
    "collapsed": false
   },
   "outputs": [
    {
     "name": "stdout",
     "output_type": "stream",
     "text": [
      "[[ 0.36787944  0.44822088  0.51979489  0.57375342  0.60279818  0.60279818\n",
      "   0.57375342  0.51979489  0.44822088  0.36787944]\n",
      " [ 0.44822088  0.54610814  0.63331324  0.69905581  0.73444367  0.73444367\n",
      "   0.69905581  0.63331324  0.54610814  0.44822088]\n",
      " [ 0.51979489  0.63331324  0.73444367  0.81068432  0.85172308  0.85172308\n",
      "   0.81068432  0.73444367  0.63331324  0.51979489]\n",
      " [ 0.57375342  0.69905581  0.81068432  0.89483932  0.9401382   0.9401382\n",
      "   0.89483932  0.81068432  0.69905581  0.57375342]\n",
      " [ 0.60279818  0.73444367  0.85172308  0.9401382   0.98773022  0.98773022\n",
      "   0.9401382   0.85172308  0.73444367  0.60279818]\n",
      " [ 0.60279818  0.73444367  0.85172308  0.9401382   0.98773022  0.98773022\n",
      "   0.9401382   0.85172308  0.73444367  0.60279818]\n",
      " [ 0.57375342  0.69905581  0.81068432  0.89483932  0.9401382   0.9401382\n",
      "   0.89483932  0.81068432  0.69905581  0.57375342]\n",
      " [ 0.51979489  0.63331324  0.73444367  0.81068432  0.85172308  0.85172308\n",
      "   0.81068432  0.73444367  0.63331324  0.51979489]\n",
      " [ 0.44822088  0.54610814  0.63331324  0.69905581  0.73444367  0.73444367\n",
      "   0.69905581  0.63331324  0.54610814  0.44822088]\n",
      " [ 0.36787944  0.44822088  0.51979489  0.57375342  0.60279818  0.60279818\n",
      "   0.57375342  0.51979489  0.44822088  0.36787944]]\n"
     ]
    }
   ],
   "source": [
    "X, Y = np.meshgrid(np.linspace(-1,1,10), np.linspace(-1,1,10))\n",
    "D = np.sqrt(X**2 + Y**2)\n",
    "sigma, mu = 1.0, 0.0\n",
    "G = np.exp(-( (D-mu)**2 / (2.0 * sigma**2)))\n",
    "print(G)"
   ]
  },
  {
   "cell_type": "markdown",
   "metadata": {},
   "source": [
    "#### 57. How to randomly place p elements in a 2D array? (★★☆)"
   ]
  },
  {
   "cell_type": "code",
   "execution_count": 22,
   "metadata": {
    "collapsed": false
   },
   "outputs": [
    {
     "name": "stdout",
     "output_type": "stream",
     "text": [
      "[[ 0.  0.  0.  1.  0.  1.  1.  0.  0.  0.]\n",
      " [ 1.  0.  0.  0.  0.  0.  0.  1.  0.  0.]\n",
      " [ 0.  0.  0.  0.  0.  0.  0.  1.  0.  1.]\n",
      " [ 0.  0.  0.  0.  0.  0.  0.  0.  0.  0.]\n",
      " [ 0.  1.  1.  1.  0.  1.  0.  0.  0.  0.]\n",
      " [ 0.  1.  0.  0.  0.  0.  0.  1.  0.  0.]\n",
      " [ 0.  0.  0.  0.  1.  1.  1.  0.  1.  0.]\n",
      " [ 1.  1.  0.  0.  1.  0.  0.  0.  1.  0.]\n",
      " [ 0.  1.  0.  1.  1.  0.  0.  1.  0.  1.]\n",
      " [ 0.  0.  0.  0.  0.  0.  0.  0.  0.  1.]]\n"
     ]
    }
   ],
   "source": [
    "# Author: Divakar\n",
    "# 2차원 매트릭스에서 특정 갯수만큼의 위치에 특정 값을 설정\n",
    "\n",
    "n = 10\n",
    "p = 27\n",
    "Z = np.zeros((n,n))\n",
    "np.put(Z, np.random.choice(range(n*n), p, replace=False),1)\n",
    "print(Z)"
   ]
  },
  {
   "cell_type": "code",
   "execution_count": 23,
   "metadata": {
    "collapsed": true
   },
   "outputs": [],
   "source": [
    "np.put?"
   ]
  },
  {
   "cell_type": "markdown",
   "metadata": {},
   "source": [
    "#### 58. Subtract the mean of each row of a matrix (★★☆)"
   ]
  },
  {
   "cell_type": "code",
   "execution_count": 24,
   "metadata": {
    "collapsed": false
   },
   "outputs": [
    {
     "name": "stdout",
     "output_type": "stream",
     "text": [
      "[[-1.         -0.77777778 -0.55555556 -0.33333333 -0.11111111  0.11111111\n",
      "   0.33333333  0.55555556  0.77777778  1.        ]\n",
      " [-1.         -0.77777778 -0.55555556 -0.33333333 -0.11111111  0.11111111\n",
      "   0.33333333  0.55555556  0.77777778  1.        ]\n",
      " [-1.         -0.77777778 -0.55555556 -0.33333333 -0.11111111  0.11111111\n",
      "   0.33333333  0.55555556  0.77777778  1.        ]\n",
      " [-1.         -0.77777778 -0.55555556 -0.33333333 -0.11111111  0.11111111\n",
      "   0.33333333  0.55555556  0.77777778  1.        ]\n",
      " [-1.         -0.77777778 -0.55555556 -0.33333333 -0.11111111  0.11111111\n",
      "   0.33333333  0.55555556  0.77777778  1.        ]\n",
      " [-1.         -0.77777778 -0.55555556 -0.33333333 -0.11111111  0.11111111\n",
      "   0.33333333  0.55555556  0.77777778  1.        ]\n",
      " [-1.         -0.77777778 -0.55555556 -0.33333333 -0.11111111  0.11111111\n",
      "   0.33333333  0.55555556  0.77777778  1.        ]\n",
      " [-1.         -0.77777778 -0.55555556 -0.33333333 -0.11111111  0.11111111\n",
      "   0.33333333  0.55555556  0.77777778  1.        ]\n",
      " [-1.         -0.77777778 -0.55555556 -0.33333333 -0.11111111  0.11111111\n",
      "   0.33333333  0.55555556  0.77777778  1.        ]\n",
      " [-1.         -0.77777778 -0.55555556 -0.33333333 -0.11111111  0.11111111\n",
      "   0.33333333  0.55555556  0.77777778  1.        ]]\n"
     ]
    }
   ],
   "source": [
    "Z = np.random.random(10)\n",
    "Y = X - X.mean(axis=1, keepdims=True)\n",
    "print(Y)"
   ]
  },
  {
   "cell_type": "markdown",
   "metadata": {},
   "source": [
    "#### 59. How to I sort an array by the nth column? (★★☆)"
   ]
  },
  {
   "cell_type": "code",
   "execution_count": 31,
   "metadata": {
    "collapsed": false
   },
   "outputs": [
    {
     "name": "stdout",
     "output_type": "stream",
     "text": [
      "[[3 1 5]\n",
      " [8 3 5]\n",
      " [2 2 9]]\n",
      "[[3 1 5]\n",
      " [2 2 9]\n",
      " [8 3 5]]\n"
     ]
    }
   ],
   "source": [
    "# 특정 열의 값을 기준으로 sorting\n",
    "Z = np.random.randint(0,10,(3,3))\n",
    "print(Z)\n",
    "print(Z[Z[:,1].argsort()])"
   ]
  },
  {
   "cell_type": "markdown",
   "metadata": {},
   "source": [
    "#### 60. How to tell if a given 2D array has null columns? (★★☆)"
   ]
  },
  {
   "cell_type": "code",
   "execution_count": 34,
   "metadata": {
    "collapsed": false
   },
   "outputs": [
    {
     "name": "stdout",
     "output_type": "stream",
     "text": [
      "[[2 2 1 1 1 1 2 2 1 2]\n",
      " [1 1 1 2 2 1 1 1 2 2]\n",
      " [1 1 2 1 2 2 2 1 1 1]]\n",
      "False\n"
     ]
    }
   ],
   "source": [
    "Z = np.random.randint(1,3,(3,10))\n",
    "print(Z)\n",
    "print((~Z.any(axis=0)).any())"
   ]
  },
  {
   "cell_type": "markdown",
   "metadata": {},
   "source": [
    "#### 61. Find the nearest value from a given value in an array (★★☆)"
   ]
  },
  {
   "cell_type": "code",
   "execution_count": 36,
   "metadata": {
    "collapsed": false
   },
   "outputs": [
    {
     "name": "stdout",
     "output_type": "stream",
     "text": [
      "[ 0.50022464  0.33931086  0.96896772  0.12683984  0.40512757  0.55820371\n",
      "  0.33626043  0.78765509  0.65192743  0.16633466]\n",
      "0.500224644195\n"
     ]
    }
   ],
   "source": [
    "Z = np.random.uniform(0,1,10)\n",
    "print(Z)\n",
    "z = 0.5\n",
    "m = Z.flat[np.abs(Z - z).argmin()]\n",
    "print(m)"
   ]
  },
  {
   "cell_type": "markdown",
   "metadata": {},
   "source": [
    "#### 62. Considering two arrays with shape (1,3) and (3,1), how to compute their sum using an iterator? (★★☆)"
   ]
  },
  {
   "cell_type": "code",
   "execution_count": 42,
   "metadata": {
    "collapsed": false
   },
   "outputs": [],
   "source": [
    "np.nditer?"
   ]
  },
  {
   "cell_type": "markdown",
   "metadata": {},
   "source": [
    "#### 63. Create an array class that has a name attribute (★★☆)"
   ]
  },
  {
   "cell_type": "code",
   "execution_count": 43,
   "metadata": {
    "collapsed": false
   },
   "outputs": [
    {
     "name": "stdout",
     "output_type": "stream",
     "text": [
      "range_10\n"
     ]
    }
   ],
   "source": [
    "class NamedArray(np.ndarray):\n",
    "    def __new__(cls, array, name=\"no name\"):\n",
    "        obj = np.asarray(array).view(cls)\n",
    "        obj.name = name\n",
    "        return obj\n",
    "    \n",
    "    def __array_finalize__(self, obj):\n",
    "        if obj is None:return\n",
    "        self.info = getattr(obj, 'name', 'no name')\n",
    "\n",
    "Z = NamedArray(np.arange(10), \"range_10\")\n",
    "print(Z.name)"
   ]
  },
  {
   "cell_type": "markdown",
   "metadata": {},
   "source": [
    "#### 64. Consider a given vector, how to add 1 to each element indexed by a second vector (be careful with repeated indices)? (★★★)"
   ]
  },
  {
   "cell_type": "code",
   "execution_count": 46,
   "metadata": {
    "collapsed": false
   },
   "outputs": [
    {
     "name": "stdout",
     "output_type": "stream",
     "text": [
      "[8 7 5 8 2 6 1 0 4 3 9 7 2 2 4 5 2 3 6 6]\n",
      "[ 2.  2.  5.  3.  3.  3.  4.  3.  3.  2.]\n",
      "[ 3.  3.  9.  5.  5.  5.  7.  5.  5.  3.]\n"
     ]
    }
   ],
   "source": [
    "Z = np.ones(10)\n",
    "I = np.random.randint(0,len(Z), 20)\n",
    "print(I)\n",
    "Z += np.bincount(I, minlength = len(Z))\n",
    "print(Z)\n",
    "\n",
    "# 또다른 해법\n",
    "np.add.at(Z,I,1)\n",
    "print(Z)"
   ]
  },
  {
   "cell_type": "code",
   "execution_count": 47,
   "metadata": {
    "collapsed": true
   },
   "outputs": [],
   "source": [
    "# 0 이상의 정수 배열을 받아서 각 인덱스에 해당하는 정수 개수를 배열로 리턴해줌\n",
    "# 즉 [0의 개수, 1의 개수, 2의 개수....]\n",
    "# 이 녀석의 최소 사이즈가 minlength 여야 한다는 것이다. 즉 정수 개수가 0이더라도 크기만큼의 배열을 생성하라는 것\n",
    "np.bincount?"
   ]
  },
  {
   "cell_type": "markdown",
   "metadata": {},
   "source": [
    "#### 65. How to accumulate elements of a vector (X) to an array (F) based on an index list (I)? (★★★)"
   ]
  },
  {
   "cell_type": "code",
   "execution_count": 53,
   "metadata": {
    "collapsed": false
   },
   "outputs": [
    {
     "name": "stdout",
     "output_type": "stream",
     "text": [
      "[0 2 0 2 1 0 0 0 0 1]\n",
      "[ 0.  7.  0.  6.  5.  0.  0.  0.  0.  3.]\n"
     ]
    }
   ],
   "source": [
    "# Author: Alan G Isaac\n",
    "\n",
    "X = [1,2,3,4,5,6]\n",
    "I = [1,3,9,3,4,1]\n",
    "\n",
    "F = np.bincount(I,X) # I 배열속 음수가 아닌 각 정수의 갯수를 리턴해주는데, 그것의 가중치 만큼을  더해준다\n",
    "\n",
    "F1 = np.bincount(I, minlength=len(I)) # 가중치가 없는 경우를 보자\n",
    "# 0 2 0 2 1 0 0 0 0 1 이다 즉, I 속에 1이 2개, 3이 2개, 4가 하나, 9가 하나이다. \n",
    "# 여기에 1의 가중치는 2, 3의 가중치는 4, 4의 가중치는 5, 9의 가중치는 없다\n",
    "# 그러면 0 \n",
    "\n",
    "\n",
    "print(F1)\n",
    "print(F)"
   ]
  },
  {
   "cell_type": "code",
   "execution_count": 62,
   "metadata": {
    "collapsed": false
   },
   "outputs": [
    {
     "name": "stdout",
     "output_type": "stream",
     "text": [
      "[1 2 3]\n",
      "[  4.  12.  23.]\n"
     ]
    }
   ],
   "source": [
    "w = np.array([4,5,6,7,8,9]) # weights\n",
    "\n",
    "# 두 x 를 bincount 하면 갯수가 같음에도 결과값이 다름에 주의\n",
    "#x = np.array([0, 1, 1, 2, 2, 2])  \n",
    "x = np.array([0, 1, 2, 1, 2, 2]) \n",
    "\n",
    "# weight 이해가 어려웠다. \n",
    "# 이렇게 된다. 우선 x를 가지고 bit count 하는데 weight를 순서대로 먹이는 거다\n",
    "\"\"\"\n",
    "1. 처음 0 하나 만나니 0번째에 첫 weight인 4를 더해줌\n",
    "2. 1 만나니 1번째 인덱스 위치에 5를 더해줌\n",
    "3. 2 만나니 2번째에 6 더해줌\n",
    "4. 1 만나니 이전 5에 7 더해서 12\n",
    "5. 2 만나니 이전 6에 8 더해서 14\n",
    "6. 2 또 만나니 14에 9 더해서 23\n",
    "결과적으로 [4,12,23]\n",
    "\"\"\"\n",
    "\n",
    "print(np.bincount(x))\n",
    "print(np.bincount(x,  w))"
   ]
  },
  {
   "cell_type": "code",
   "execution_count": 57,
   "metadata": {
    "collapsed": false
   },
   "outputs": [
    {
     "name": "stdout",
     "output_type": "stream",
     "text": [
      "[1 2 3]\n",
      "[ 0.3  0.7  1.1]\n"
     ]
    }
   ],
   "source": [
    "w = np.array([0.3, 0.5, 0.2, 0.7, 1., -0.6]) # weights\n",
    "x = np.array([0, 1, 1, 2, 2, 2])\n",
    "\n",
    "# 위와 같이 계산해보자\n",
    "\"\"\"\n",
    "1. 0이니 +0.3\n",
    "2. 1이니 +0.5\n",
    "3. 1이니 0.5+0.2\n",
    "4. 2이니 +0.7\n",
    "5. 2이니 0.7+1.0\n",
    "6. 2이니 0.7+1.0+(-0.6)\n",
    "결과적으로 [0.3, 0.7, 1.1]\"\"\"\n",
    "\n",
    "\n",
    "print(np.bincount(x))\n",
    "print(np.bincount(x,  w))"
   ]
  },
  {
   "cell_type": "markdown",
   "metadata": {},
   "source": [
    "#### 66. Considering a (w,h,3) image of (dtype=ubyte), compute the number of unique colors (★★★)"
   ]
  },
  {
   "cell_type": "code",
   "execution_count": null,
   "metadata": {
    "collapsed": false
   },
   "outputs": [],
   "source": []
  },
  {
   "cell_type": "markdown",
   "metadata": {},
   "source": [
    "#### 67. Considering a four dimensions array, how to get sum over the last two axis at once? (★★★)"
   ]
  },
  {
   "cell_type": "code",
   "execution_count": null,
   "metadata": {
    "collapsed": false
   },
   "outputs": [],
   "source": []
  },
  {
   "cell_type": "markdown",
   "metadata": {},
   "source": [
    "#### 68. Considering a one-dimensional vector D, how to compute means of subsets of D using a vector S of same size describing subset  indices? (★★★)"
   ]
  },
  {
   "cell_type": "code",
   "execution_count": null,
   "metadata": {
    "collapsed": false
   },
   "outputs": [],
   "source": []
  },
  {
   "cell_type": "markdown",
   "metadata": {},
   "source": [
    "#### 69. How to get the diagonal of a dot product? (★★★)"
   ]
  },
  {
   "cell_type": "code",
   "execution_count": null,
   "metadata": {
    "collapsed": false
   },
   "outputs": [],
   "source": []
  },
  {
   "cell_type": "markdown",
   "metadata": {},
   "source": [
    "#### 70. Consider the vector \\[1, 2, 3, 4, 5\\], how to build a new vector with 3 consecutive zeros interleaved between each value? (★★★)"
   ]
  },
  {
   "cell_type": "code",
   "execution_count": null,
   "metadata": {
    "collapsed": false
   },
   "outputs": [],
   "source": []
  },
  {
   "cell_type": "markdown",
   "metadata": {},
   "source": [
    "#### 71. Consider an array of dimension (5,5,3), how to mulitply it by an array with dimensions (5,5)? (★★★)"
   ]
  },
  {
   "cell_type": "code",
   "execution_count": null,
   "metadata": {
    "collapsed": true
   },
   "outputs": [],
   "source": []
  },
  {
   "cell_type": "markdown",
   "metadata": {},
   "source": [
    "#### 72. How to swap two rows of an array? (★★★)"
   ]
  },
  {
   "cell_type": "code",
   "execution_count": null,
   "metadata": {
    "collapsed": false
   },
   "outputs": [],
   "source": []
  },
  {
   "cell_type": "markdown",
   "metadata": {},
   "source": [
    "#### 73. Consider a set of 10 triplets describing 10 triangles (with shared vertices), find the set of unique line segments composing all the  triangles (★★★)"
   ]
  },
  {
   "cell_type": "code",
   "execution_count": null,
   "metadata": {
    "collapsed": false
   },
   "outputs": [],
   "source": []
  },
  {
   "cell_type": "markdown",
   "metadata": {},
   "source": [
    "#### 74. Given an array C that is a bincount, how to produce an array A such that np.bincount(A) == C? (★★★)"
   ]
  },
  {
   "cell_type": "code",
   "execution_count": null,
   "metadata": {
    "collapsed": false
   },
   "outputs": [],
   "source": []
  },
  {
   "cell_type": "markdown",
   "metadata": {},
   "source": [
    "#### 75. How to compute averages using a sliding window over an array? (★★★)"
   ]
  },
  {
   "cell_type": "code",
   "execution_count": null,
   "metadata": {
    "collapsed": false
   },
   "outputs": [],
   "source": []
  },
  {
   "cell_type": "markdown",
   "metadata": {},
   "source": [
    "#### 76. Consider a one-dimensional array Z, build a two-dimensional array whose first row is (Z\\[0\\],Z\\[1\\],Z\\[2\\]) and each subsequent row is  shifted by 1 (last row should be (Z\\[-3\\],Z\\[-2\\],Z\\[-1\\]) (★★★)"
   ]
  },
  {
   "cell_type": "code",
   "execution_count": null,
   "metadata": {
    "collapsed": false
   },
   "outputs": [],
   "source": []
  },
  {
   "cell_type": "markdown",
   "metadata": {},
   "source": [
    "#### 77. How to negate a boolean, or to change the sign of a float inplace? (★★★)"
   ]
  },
  {
   "cell_type": "code",
   "execution_count": null,
   "metadata": {
    "collapsed": false
   },
   "outputs": [],
   "source": []
  },
  {
   "cell_type": "markdown",
   "metadata": {},
   "source": [
    "#### 78. Consider 2 sets of points P0,P1 describing lines (2d) and a point p, how to compute distance from p to each line i  (P0\\[i\\],P1\\[i\\])? (★★★)"
   ]
  },
  {
   "cell_type": "code",
   "execution_count": null,
   "metadata": {
    "collapsed": false
   },
   "outputs": [],
   "source": []
  },
  {
   "cell_type": "markdown",
   "metadata": {},
   "source": [
    "#### 79. Consider 2 sets of points P0,P1 describing lines (2d) and a set of points P, how to compute distance from each point j (P\\[j\\]) to each line i (P0\\[i\\],P1\\[i\\])? (★★★)"
   ]
  },
  {
   "cell_type": "code",
   "execution_count": null,
   "metadata": {
    "collapsed": false
   },
   "outputs": [],
   "source": []
  },
  {
   "cell_type": "markdown",
   "metadata": {},
   "source": [
    "#### 80. Consider an arbitrary array, write a function that extract a subpart with a fixed shape and centered on a given element (pad with a `fill` value when necessary) (★★★)"
   ]
  },
  {
   "cell_type": "code",
   "execution_count": null,
   "metadata": {
    "collapsed": false
   },
   "outputs": [],
   "source": []
  },
  {
   "cell_type": "markdown",
   "metadata": {},
   "source": [
    "#### 81. Consider an array Z = \\[1,2,3,4,5,6,7,8,9,10,11,12,13,14\\], how to generate an array R = \\[\\[1,2,3,4\\], \\[2,3,4,5\\], \\[3,4,5,6\\], ..., \\[11,12,13,14\\]\\]? (★★★)"
   ]
  },
  {
   "cell_type": "code",
   "execution_count": null,
   "metadata": {
    "collapsed": false
   },
   "outputs": [],
   "source": []
  },
  {
   "cell_type": "markdown",
   "metadata": {},
   "source": [
    "#### 82. Compute a matrix rank (★★★)"
   ]
  },
  {
   "cell_type": "code",
   "execution_count": null,
   "metadata": {
    "collapsed": false
   },
   "outputs": [],
   "source": []
  },
  {
   "cell_type": "markdown",
   "metadata": {},
   "source": [
    "#### 83. How to find the most frequent value in an array?"
   ]
  },
  {
   "cell_type": "code",
   "execution_count": null,
   "metadata": {
    "collapsed": false
   },
   "outputs": [],
   "source": []
  },
  {
   "cell_type": "markdown",
   "metadata": {},
   "source": [
    "#### 84. Extract all the contiguous 3x3 blocks from a random 10x10 matrix (★★★)"
   ]
  },
  {
   "cell_type": "code",
   "execution_count": null,
   "metadata": {
    "collapsed": false
   },
   "outputs": [],
   "source": []
  },
  {
   "cell_type": "markdown",
   "metadata": {},
   "source": [
    "#### 85. Create a 2D array subclass such that Z\\[i,j\\] == Z\\[j,i\\] (★★★)"
   ]
  },
  {
   "cell_type": "code",
   "execution_count": null,
   "metadata": {
    "collapsed": false
   },
   "outputs": [],
   "source": []
  },
  {
   "cell_type": "markdown",
   "metadata": {},
   "source": [
    "#### 86. Consider a set of p matrices wich shape (n,n) and a set of p vectors with shape (n,1). How to compute the sum of of the p matrix products at once? (result has shape (n,1)) (★★★)"
   ]
  },
  {
   "cell_type": "code",
   "execution_count": null,
   "metadata": {
    "collapsed": false
   },
   "outputs": [],
   "source": []
  },
  {
   "cell_type": "markdown",
   "metadata": {},
   "source": [
    "#### 87. Consider a 16x16 array, how to get the block-sum (block size is 4x4)? (★★★)"
   ]
  },
  {
   "cell_type": "code",
   "execution_count": null,
   "metadata": {
    "collapsed": false
   },
   "outputs": [],
   "source": []
  },
  {
   "cell_type": "markdown",
   "metadata": {},
   "source": [
    "#### 88. How to implement the Game of Life using numpy arrays? (★★★)"
   ]
  },
  {
   "cell_type": "code",
   "execution_count": null,
   "metadata": {
    "collapsed": false
   },
   "outputs": [],
   "source": []
  },
  {
   "cell_type": "markdown",
   "metadata": {},
   "source": [
    "#### 89. How to get the n largest values of an array (★★★)"
   ]
  },
  {
   "cell_type": "code",
   "execution_count": null,
   "metadata": {
    "collapsed": false
   },
   "outputs": [],
   "source": []
  },
  {
   "cell_type": "markdown",
   "metadata": {},
   "source": [
    "#### 90. Given an arbitrary number of vectors, build the cartesian product (every combinations of every item) (★★★)"
   ]
  },
  {
   "cell_type": "code",
   "execution_count": null,
   "metadata": {
    "collapsed": false,
    "scrolled": true
   },
   "outputs": [],
   "source": []
  },
  {
   "cell_type": "markdown",
   "metadata": {},
   "source": [
    "#### 91. How to create a record array from a regular array? (★★★)"
   ]
  },
  {
   "cell_type": "code",
   "execution_count": null,
   "metadata": {
    "collapsed": false
   },
   "outputs": [],
   "source": []
  },
  {
   "cell_type": "markdown",
   "metadata": {},
   "source": [
    "#### 92. Consider a large vector Z, compute Z to the power of 3 using 3 different methods (★★★)"
   ]
  },
  {
   "cell_type": "code",
   "execution_count": null,
   "metadata": {
    "collapsed": false
   },
   "outputs": [],
   "source": []
  },
  {
   "cell_type": "markdown",
   "metadata": {},
   "source": [
    "#### 93. Consider two arrays A and B of shape (8,3) and (2,2). How to find rows of A that contain elements of each row of B regardless of the order of the elements in B? (★★★)"
   ]
  },
  {
   "cell_type": "code",
   "execution_count": null,
   "metadata": {
    "collapsed": false
   },
   "outputs": [],
   "source": []
  },
  {
   "cell_type": "markdown",
   "metadata": {},
   "source": [
    "#### 94. Considering a 10x3 matrix, extract rows with unequal values (e.g. \\[2,2,3\\]) (★★★)"
   ]
  },
  {
   "cell_type": "code",
   "execution_count": null,
   "metadata": {
    "collapsed": false
   },
   "outputs": [],
   "source": []
  },
  {
   "cell_type": "markdown",
   "metadata": {},
   "source": [
    "#### 95. Convert a vector of ints into a matrix binary representation (★★★)"
   ]
  },
  {
   "cell_type": "code",
   "execution_count": null,
   "metadata": {
    "collapsed": false
   },
   "outputs": [],
   "source": []
  },
  {
   "cell_type": "markdown",
   "metadata": {},
   "source": [
    "#### 96. Given a two dimensional array, how to extract unique rows? (★★★)"
   ]
  },
  {
   "cell_type": "code",
   "execution_count": null,
   "metadata": {
    "collapsed": false
   },
   "outputs": [],
   "source": []
  },
  {
   "cell_type": "markdown",
   "metadata": {},
   "source": [
    "#### 97. Considering 2 vectors A & B, write the einsum equivalent of inner, outer, sum, and mul function (★★★)"
   ]
  },
  {
   "cell_type": "code",
   "execution_count": null,
   "metadata": {
    "collapsed": false
   },
   "outputs": [],
   "source": []
  },
  {
   "cell_type": "markdown",
   "metadata": {},
   "source": [
    "#### 98. Considering a path described by two vectors (X,Y), how to sample it using equidistant samples (★★★)?"
   ]
  },
  {
   "cell_type": "code",
   "execution_count": null,
   "metadata": {
    "collapsed": true
   },
   "outputs": [],
   "source": []
  },
  {
   "cell_type": "markdown",
   "metadata": {},
   "source": [
    "#### 99. Given an integer n and a 2D array X, select from X the rows which can be interpreted as draws from a multinomial distribution with n degrees, i.e., the rows which only contain integers and which sum to n. (★★★)"
   ]
  },
  {
   "cell_type": "code",
   "execution_count": null,
   "metadata": {
    "collapsed": false
   },
   "outputs": [],
   "source": []
  },
  {
   "cell_type": "markdown",
   "metadata": {},
   "source": [
    "#### 100. Compute bootstrapped 95% confidence intervals for the mean of a 1D array X (i.e., resample the elements of an array with replacement N times, compute the mean of each sample, and then compute percentiles over the means). (★★★)"
   ]
  },
  {
   "cell_type": "code",
   "execution_count": null,
   "metadata": {
    "collapsed": false
   },
   "outputs": [],
   "source": []
  }
 ],
 "metadata": {
  "anaconda-cloud": {},
  "kernelspec": {
   "display_name": "Python [conda root]",
   "language": "python",
   "name": "conda-root-py"
  },
  "language_info": {
   "codemirror_mode": {
    "name": "ipython",
    "version": 3
   },
   "file_extension": ".py",
   "mimetype": "text/x-python",
   "name": "python",
   "nbconvert_exporter": "python",
   "pygments_lexer": "ipython3",
   "version": "3.5.2"
  }
 },
 "nbformat": 4,
 "nbformat_minor": 0
}
